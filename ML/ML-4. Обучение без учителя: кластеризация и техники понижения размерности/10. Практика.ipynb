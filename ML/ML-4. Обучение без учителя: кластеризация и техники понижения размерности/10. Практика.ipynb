{
 "cells": [
  {
   "cell_type": "code",
   "execution_count": 1,
   "metadata": {},
   "outputs": [
    {
     "data": {
      "text/html": [
       "<div>\n",
       "<style scoped>\n",
       "    .dataframe tbody tr th:only-of-type {\n",
       "        vertical-align: middle;\n",
       "    }\n",
       "\n",
       "    .dataframe tbody tr th {\n",
       "        vertical-align: top;\n",
       "    }\n",
       "\n",
       "    .dataframe thead th {\n",
       "        text-align: right;\n",
       "    }\n",
       "</style>\n",
       "<table border=\"1\" class=\"dataframe\">\n",
       "  <thead>\n",
       "    <tr style=\"text-align: right;\">\n",
       "      <th></th>\n",
       "      <th>CustomerID</th>\n",
       "      <th>Gender</th>\n",
       "      <th>Age</th>\n",
       "      <th>Annual Income (k$)</th>\n",
       "      <th>Spending Score (1-100)</th>\n",
       "      <th>cluster</th>\n",
       "    </tr>\n",
       "  </thead>\n",
       "  <tbody>\n",
       "    <tr>\n",
       "      <th>0</th>\n",
       "      <td>1</td>\n",
       "      <td>Male</td>\n",
       "      <td>19.0</td>\n",
       "      <td>15.0</td>\n",
       "      <td>39.0</td>\n",
       "      <td>4.0</td>\n",
       "    </tr>\n",
       "    <tr>\n",
       "      <th>1</th>\n",
       "      <td>2</td>\n",
       "      <td>Male</td>\n",
       "      <td>21.0</td>\n",
       "      <td>15.0</td>\n",
       "      <td>81.0</td>\n",
       "      <td>3.0</td>\n",
       "    </tr>\n",
       "    <tr>\n",
       "      <th>2</th>\n",
       "      <td>3</td>\n",
       "      <td>Female</td>\n",
       "      <td>20.0</td>\n",
       "      <td>16.0</td>\n",
       "      <td>6.0</td>\n",
       "      <td>4.0</td>\n",
       "    </tr>\n",
       "    <tr>\n",
       "      <th>3</th>\n",
       "      <td>4</td>\n",
       "      <td>Female</td>\n",
       "      <td>23.0</td>\n",
       "      <td>16.0</td>\n",
       "      <td>77.0</td>\n",
       "      <td>3.0</td>\n",
       "    </tr>\n",
       "    <tr>\n",
       "      <th>4</th>\n",
       "      <td>5</td>\n",
       "      <td>Female</td>\n",
       "      <td>31.0</td>\n",
       "      <td>17.0</td>\n",
       "      <td>40.0</td>\n",
       "      <td>4.0</td>\n",
       "    </tr>\n",
       "  </tbody>\n",
       "</table>\n",
       "</div>"
      ],
      "text/plain": [
       "   CustomerID  Gender   Age  Annual Income (k$)  Spending Score (1-100)  \\\n",
       "0           1    Male  19.0                15.0                    39.0   \n",
       "1           2    Male  21.0                15.0                    81.0   \n",
       "2           3  Female  20.0                16.0                     6.0   \n",
       "3           4  Female  23.0                16.0                    77.0   \n",
       "4           5  Female  31.0                17.0                    40.0   \n",
       "\n",
       "   cluster  \n",
       "0      4.0  \n",
       "1      3.0  \n",
       "2      4.0  \n",
       "3      3.0  \n",
       "4      4.0  "
      ]
     },
     "execution_count": 1,
     "metadata": {},
     "output_type": "execute_result"
    }
   ],
   "source": [
    "# импортируем библиотеки для работы с данными\n",
    "import pandas as pd\n",
    "from sklearn import preprocessing \n",
    "\n",
    "# загрузим данные\n",
    "df = pd.read_csv(\"data/segmented_customers.csv\")\n",
    "# посмотрим на данные\n",
    "df.head()"
   ]
  },
  {
   "cell_type": "code",
   "execution_count": 2,
   "metadata": {},
   "outputs": [
    {
     "data": {
      "text/html": [
       "<div>\n",
       "<style scoped>\n",
       "    .dataframe tbody tr th:only-of-type {\n",
       "        vertical-align: middle;\n",
       "    }\n",
       "\n",
       "    .dataframe tbody tr th {\n",
       "        vertical-align: top;\n",
       "    }\n",
       "\n",
       "    .dataframe thead th {\n",
       "        text-align: right;\n",
       "    }\n",
       "</style>\n",
       "<table border=\"1\" class=\"dataframe\">\n",
       "  <thead>\n",
       "    <tr style=\"text-align: right;\">\n",
       "      <th></th>\n",
       "      <th>CustomerID</th>\n",
       "      <th>Gender</th>\n",
       "      <th>Age</th>\n",
       "      <th>Annual Income (k$)</th>\n",
       "      <th>Spending Score (1-100)</th>\n",
       "      <th>cluster</th>\n",
       "    </tr>\n",
       "  </thead>\n",
       "  <tbody>\n",
       "    <tr>\n",
       "      <th>200</th>\n",
       "      <td>201</td>\n",
       "      <td>Female</td>\n",
       "      <td>21.0</td>\n",
       "      <td>NaN</td>\n",
       "      <td>40.0</td>\n",
       "      <td>0.0</td>\n",
       "    </tr>\n",
       "    <tr>\n",
       "      <th>201</th>\n",
       "      <td>202</td>\n",
       "      <td>Female</td>\n",
       "      <td>30.0</td>\n",
       "      <td>127.0</td>\n",
       "      <td>NaN</td>\n",
       "      <td>NaN</td>\n",
       "    </tr>\n",
       "    <tr>\n",
       "      <th>202</th>\n",
       "      <td>203</td>\n",
       "      <td>Male</td>\n",
       "      <td>80.0</td>\n",
       "      <td>NaN</td>\n",
       "      <td>20.0</td>\n",
       "      <td>NaN</td>\n",
       "    </tr>\n",
       "    <tr>\n",
       "      <th>203</th>\n",
       "      <td>204</td>\n",
       "      <td>Male</td>\n",
       "      <td>NaN</td>\n",
       "      <td>16.0</td>\n",
       "      <td>120.0</td>\n",
       "      <td>NaN</td>\n",
       "    </tr>\n",
       "    <tr>\n",
       "      <th>204</th>\n",
       "      <td>205</td>\n",
       "      <td>Female</td>\n",
       "      <td>NaN</td>\n",
       "      <td>9.0</td>\n",
       "      <td>80.0</td>\n",
       "      <td>NaN</td>\n",
       "    </tr>\n",
       "  </tbody>\n",
       "</table>\n",
       "</div>"
      ],
      "text/plain": [
       "     CustomerID  Gender   Age  Annual Income (k$)  Spending Score (1-100)  \\\n",
       "200         201  Female  21.0                 NaN                    40.0   \n",
       "201         202  Female  30.0               127.0                     NaN   \n",
       "202         203    Male  80.0                 NaN                    20.0   \n",
       "203         204    Male   NaN                16.0                   120.0   \n",
       "204         205  Female   NaN                 9.0                    80.0   \n",
       "\n",
       "     cluster  \n",
       "200      0.0  \n",
       "201      NaN  \n",
       "202      NaN  \n",
       "203      NaN  \n",
       "204      NaN  "
      ]
     },
     "execution_count": 2,
     "metadata": {},
     "output_type": "execute_result"
    }
   ],
   "source": [
    "# посмотрим, есть ли пропуски в датасете\n",
    "df[df.isna().any(axis=1)]"
   ]
  },
  {
   "cell_type": "code",
   "execution_count": 3,
   "metadata": {},
   "outputs": [],
   "source": [
    "# пропусков не так много, поэтому мы можем удалить данные с пропусками\n",
    "df = df.dropna()\n",
    "\n",
    "# переименуем столбцы для более удобной работы\n",
    "df.rename(columns = {'CustomerID' : 'customer_id', 'Gender' : 'gender', \n",
    "                    'Age': 'age', 'Annual Income (k$)': 'annual_income', \n",
    "                    'Spending Score (1-100)': 'spending_score', }, inplace = True)"
   ]
  },
  {
   "cell_type": "code",
   "execution_count": 4,
   "metadata": {},
   "outputs": [
    {
     "data": {
      "text/html": [
       "<div>\n",
       "<style scoped>\n",
       "    .dataframe tbody tr th:only-of-type {\n",
       "        vertical-align: middle;\n",
       "    }\n",
       "\n",
       "    .dataframe tbody tr th {\n",
       "        vertical-align: top;\n",
       "    }\n",
       "\n",
       "    .dataframe thead th {\n",
       "        text-align: right;\n",
       "    }\n",
       "</style>\n",
       "<table border=\"1\" class=\"dataframe\">\n",
       "  <thead>\n",
       "    <tr style=\"text-align: right;\">\n",
       "      <th></th>\n",
       "      <th>customer_id</th>\n",
       "      <th>gender</th>\n",
       "      <th>age</th>\n",
       "      <th>annual_income</th>\n",
       "      <th>spending_score</th>\n",
       "      <th>cluster</th>\n",
       "    </tr>\n",
       "  </thead>\n",
       "  <tbody>\n",
       "  </tbody>\n",
       "</table>\n",
       "</div>"
      ],
      "text/plain": [
       "Empty DataFrame\n",
       "Columns: [customer_id, gender, age, annual_income, spending_score, cluster]\n",
       "Index: []"
      ]
     },
     "execution_count": 4,
     "metadata": {},
     "output_type": "execute_result"
    }
   ],
   "source": [
    "# проверим, есть ли в данных дубликаты\n",
    "df[df.duplicated(subset=['customer_id'])]"
   ]
  },
  {
   "cell_type": "code",
   "execution_count": 17,
   "metadata": {},
   "outputs": [
    {
     "data": {
      "text/html": [
       "<div>\n",
       "<style scoped>\n",
       "    .dataframe tbody tr th:only-of-type {\n",
       "        vertical-align: middle;\n",
       "    }\n",
       "\n",
       "    .dataframe tbody tr th {\n",
       "        vertical-align: top;\n",
       "    }\n",
       "\n",
       "    .dataframe thead th {\n",
       "        text-align: right;\n",
       "    }\n",
       "</style>\n",
       "<table border=\"1\" class=\"dataframe\">\n",
       "  <thead>\n",
       "    <tr style=\"text-align: right;\">\n",
       "      <th></th>\n",
       "      <th>customer_id</th>\n",
       "      <th>gender</th>\n",
       "      <th>age</th>\n",
       "      <th>annual_income</th>\n",
       "      <th>spending_score</th>\n",
       "      <th>cluster</th>\n",
       "      <th>dbscan_res_eps_11</th>\n",
       "      <th>aggl_res_3</th>\n",
       "      <th>aggl_res_6</th>\n",
       "      <th>gender_bin</th>\n",
       "    </tr>\n",
       "  </thead>\n",
       "  <tbody>\n",
       "    <tr>\n",
       "      <th>0</th>\n",
       "      <td>1</td>\n",
       "      <td>Male</td>\n",
       "      <td>19.0</td>\n",
       "      <td>15.0</td>\n",
       "      <td>39.0</td>\n",
       "      <td>4.0</td>\n",
       "      <td>-1</td>\n",
       "      <td>0</td>\n",
       "      <td>4</td>\n",
       "      <td>1</td>\n",
       "    </tr>\n",
       "    <tr>\n",
       "      <th>1</th>\n",
       "      <td>2</td>\n",
       "      <td>Male</td>\n",
       "      <td>21.0</td>\n",
       "      <td>15.0</td>\n",
       "      <td>81.0</td>\n",
       "      <td>3.0</td>\n",
       "      <td>0</td>\n",
       "      <td>0</td>\n",
       "      <td>3</td>\n",
       "      <td>1</td>\n",
       "    </tr>\n",
       "    <tr>\n",
       "      <th>2</th>\n",
       "      <td>3</td>\n",
       "      <td>Female</td>\n",
       "      <td>20.0</td>\n",
       "      <td>16.0</td>\n",
       "      <td>6.0</td>\n",
       "      <td>4.0</td>\n",
       "      <td>-1</td>\n",
       "      <td>0</td>\n",
       "      <td>4</td>\n",
       "      <td>0</td>\n",
       "    </tr>\n",
       "    <tr>\n",
       "      <th>3</th>\n",
       "      <td>4</td>\n",
       "      <td>Female</td>\n",
       "      <td>23.0</td>\n",
       "      <td>16.0</td>\n",
       "      <td>77.0</td>\n",
       "      <td>3.0</td>\n",
       "      <td>0</td>\n",
       "      <td>0</td>\n",
       "      <td>3</td>\n",
       "      <td>0</td>\n",
       "    </tr>\n",
       "    <tr>\n",
       "      <th>4</th>\n",
       "      <td>5</td>\n",
       "      <td>Female</td>\n",
       "      <td>31.0</td>\n",
       "      <td>17.0</td>\n",
       "      <td>40.0</td>\n",
       "      <td>4.0</td>\n",
       "      <td>-1</td>\n",
       "      <td>0</td>\n",
       "      <td>4</td>\n",
       "      <td>0</td>\n",
       "    </tr>\n",
       "  </tbody>\n",
       "</table>\n",
       "</div>"
      ],
      "text/plain": [
       "   customer_id  gender   age  annual_income  spending_score  cluster  \\\n",
       "0            1    Male  19.0           15.0            39.0      4.0   \n",
       "1            2    Male  21.0           15.0            81.0      3.0   \n",
       "2            3  Female  20.0           16.0             6.0      4.0   \n",
       "3            4  Female  23.0           16.0            77.0      3.0   \n",
       "4            5  Female  31.0           17.0            40.0      4.0   \n",
       "\n",
       "   dbscan_res_eps_11  aggl_res_3  aggl_res_6  gender_bin  \n",
       "0                 -1           0           4           1  \n",
       "1                  0           0           3           1  \n",
       "2                 -1           0           4           0  \n",
       "3                  0           0           3           0  \n",
       "4                 -1           0           4           0  "
      ]
     },
     "execution_count": 17,
     "metadata": {},
     "output_type": "execute_result"
    }
   ],
   "source": [
    "df['gender_bin'] = df['gender'].apply(lambda x: 1 if x=='Male' else 0)\n",
    "df.drop(columns='gender', axis=1, inplace=True)"
   ]
  },
  {
   "cell_type": "code",
   "execution_count": 5,
   "metadata": {},
   "outputs": [
    {
     "data": {
      "application/vnd.plotly.v1+json": {
       "config": {
        "plotlyServerURL": "https://plot.ly"
       },
       "data": [
        {
         "hovertemplate": "age=%{x}<br>annual_income=%{y}<br>spending_score=%{z}<extra></extra>",
         "legendgroup": "",
         "marker": {
          "color": "#636efa",
          "symbol": "circle"
         },
         "mode": "markers",
         "name": "",
         "scene": "scene",
         "showlegend": false,
         "type": "scatter3d",
         "x": [
          19,
          21,
          20,
          23,
          31,
          22,
          35,
          23,
          64,
          30,
          67,
          35,
          58,
          24,
          37,
          22,
          35,
          20,
          52,
          35,
          35,
          25,
          46,
          31,
          54,
          29,
          45,
          35,
          40,
          23,
          60,
          21,
          53,
          18,
          49,
          21,
          42,
          30,
          36,
          20,
          65,
          24,
          48,
          31,
          49,
          24,
          50,
          27,
          29,
          31,
          49,
          33,
          31,
          59,
          50,
          47,
          51,
          69,
          27,
          53,
          70,
          19,
          67,
          54,
          63,
          18,
          43,
          68,
          19,
          32,
          70,
          47,
          60,
          60,
          59,
          26,
          45,
          40,
          23,
          49,
          57,
          38,
          67,
          46,
          21,
          48,
          55,
          22,
          34,
          50,
          68,
          18,
          48,
          40,
          32,
          24,
          47,
          27,
          48,
          20,
          23,
          49,
          67,
          26,
          49,
          21,
          66,
          54,
          68,
          66,
          65,
          19,
          38,
          19,
          18,
          19,
          63,
          49,
          51,
          50,
          27,
          38,
          40,
          39,
          23,
          31,
          43,
          40,
          59,
          38,
          47,
          39,
          25,
          31,
          20,
          29,
          44,
          32,
          19,
          35,
          57,
          32,
          28,
          32,
          25,
          28,
          48,
          32,
          34,
          34,
          43,
          39,
          44,
          38,
          47,
          27,
          37,
          30,
          34,
          30,
          56,
          29,
          19,
          31,
          50,
          36,
          42,
          33,
          36,
          32,
          40,
          28,
          36,
          36,
          52,
          30,
          58,
          27,
          59,
          35,
          37,
          32,
          46,
          29,
          41,
          30,
          54,
          28,
          41,
          36,
          34,
          32,
          33,
          38,
          47,
          35,
          45,
          32,
          32,
          30
         ],
         "y": [
          15,
          15,
          16,
          16,
          17,
          17,
          18,
          18,
          19,
          19,
          19,
          19,
          20,
          20,
          20,
          20,
          21,
          21,
          23,
          23,
          24,
          24,
          25,
          25,
          28,
          28,
          28,
          28,
          29,
          29,
          30,
          30,
          33,
          33,
          33,
          33,
          34,
          34,
          37,
          37,
          38,
          38,
          39,
          39,
          39,
          39,
          40,
          40,
          40,
          40,
          42,
          42,
          43,
          43,
          43,
          43,
          44,
          44,
          46,
          46,
          46,
          46,
          47,
          47,
          48,
          48,
          48,
          48,
          48,
          48,
          49,
          49,
          50,
          50,
          54,
          54,
          54,
          54,
          54,
          54,
          54,
          54,
          54,
          54,
          54,
          54,
          57,
          57,
          58,
          58,
          59,
          59,
          60,
          60,
          60,
          60,
          60,
          60,
          61,
          61,
          62,
          62,
          62,
          62,
          62,
          62,
          63,
          63,
          63,
          63,
          63,
          63,
          64,
          64,
          65,
          65,
          65,
          65,
          67,
          67,
          67,
          67,
          69,
          69,
          70,
          70,
          71,
          71,
          71,
          71,
          71,
          71,
          72,
          72,
          73,
          73,
          73,
          73,
          74,
          74,
          75,
          75,
          76,
          76,
          77,
          77,
          77,
          77,
          78,
          78,
          78,
          78,
          78,
          78,
          78,
          78,
          78,
          78,
          78,
          78,
          79,
          79,
          81,
          81,
          85,
          85,
          86,
          86,
          87,
          87,
          87,
          87,
          87,
          87,
          88,
          88,
          88,
          88,
          93,
          93,
          97,
          97,
          98,
          98,
          99,
          99,
          101,
          101,
          103,
          103,
          103,
          103,
          113,
          113,
          120,
          120,
          126,
          126,
          137,
          137
         ],
         "z": [
          39,
          81,
          6,
          77,
          40,
          76,
          6,
          94,
          3,
          72,
          14,
          99,
          15,
          77,
          13,
          79,
          35,
          66,
          29,
          98,
          35,
          73,
          5,
          73,
          14,
          82,
          32,
          61,
          31,
          87,
          4,
          73,
          4,
          92,
          14,
          81,
          17,
          73,
          26,
          75,
          35,
          92,
          36,
          61,
          28,
          65,
          55,
          47,
          42,
          42,
          52,
          60,
          54,
          60,
          45,
          41,
          50,
          46,
          51,
          46,
          56,
          55,
          52,
          59,
          51,
          59,
          50,
          48,
          59,
          47,
          55,
          42,
          49,
          56,
          47,
          54,
          53,
          48,
          52,
          42,
          51,
          55,
          41,
          44,
          57,
          46,
          58,
          55,
          60,
          46,
          55,
          41,
          49,
          40,
          42,
          52,
          47,
          50,
          42,
          49,
          41,
          48,
          59,
          55,
          56,
          42,
          50,
          46,
          43,
          48,
          52,
          54,
          42,
          46,
          48,
          50,
          43,
          59,
          43,
          57,
          56,
          40,
          58,
          91,
          29,
          77,
          35,
          95,
          11,
          75,
          9,
          75,
          34,
          71,
          5,
          88,
          7,
          73,
          10,
          72,
          5,
          93,
          40,
          87,
          12,
          97,
          36,
          74,
          22,
          90,
          17,
          88,
          20,
          76,
          16,
          89,
          1,
          78,
          1,
          73,
          35,
          83,
          5,
          93,
          26,
          75,
          20,
          95,
          27,
          63,
          13,
          75,
          10,
          92,
          13,
          86,
          15,
          69,
          14,
          90,
          32,
          86,
          15,
          88,
          39,
          97,
          24,
          68,
          17,
          85,
          23,
          69,
          8,
          91,
          16,
          79,
          28,
          74,
          18,
          83
         ]
        }
       ],
       "layout": {
        "height": 700,
        "legend": {
         "tracegroupgap": 0
        },
        "margin": {
         "t": 60
        },
        "scene": {
         "domain": {
          "x": [
           0,
           1
          ],
          "y": [
           0,
           1
          ]
         },
         "xaxis": {
          "title": {
           "text": "age"
          }
         },
         "yaxis": {
          "title": {
           "text": "annual_income"
          }
         },
         "zaxis": {
          "title": {
           "text": "spending_score"
          }
         }
        },
        "template": {
         "data": {
          "bar": [
           {
            "error_x": {
             "color": "#2a3f5f"
            },
            "error_y": {
             "color": "#2a3f5f"
            },
            "marker": {
             "line": {
              "color": "#E5ECF6",
              "width": 0.5
             },
             "pattern": {
              "fillmode": "overlay",
              "size": 10,
              "solidity": 0.2
             }
            },
            "type": "bar"
           }
          ],
          "barpolar": [
           {
            "marker": {
             "line": {
              "color": "#E5ECF6",
              "width": 0.5
             },
             "pattern": {
              "fillmode": "overlay",
              "size": 10,
              "solidity": 0.2
             }
            },
            "type": "barpolar"
           }
          ],
          "carpet": [
           {
            "aaxis": {
             "endlinecolor": "#2a3f5f",
             "gridcolor": "white",
             "linecolor": "white",
             "minorgridcolor": "white",
             "startlinecolor": "#2a3f5f"
            },
            "baxis": {
             "endlinecolor": "#2a3f5f",
             "gridcolor": "white",
             "linecolor": "white",
             "minorgridcolor": "white",
             "startlinecolor": "#2a3f5f"
            },
            "type": "carpet"
           }
          ],
          "choropleth": [
           {
            "colorbar": {
             "outlinewidth": 0,
             "ticks": ""
            },
            "type": "choropleth"
           }
          ],
          "contour": [
           {
            "colorbar": {
             "outlinewidth": 0,
             "ticks": ""
            },
            "colorscale": [
             [
              0,
              "#0d0887"
             ],
             [
              0.1111111111111111,
              "#46039f"
             ],
             [
              0.2222222222222222,
              "#7201a8"
             ],
             [
              0.3333333333333333,
              "#9c179e"
             ],
             [
              0.4444444444444444,
              "#bd3786"
             ],
             [
              0.5555555555555556,
              "#d8576b"
             ],
             [
              0.6666666666666666,
              "#ed7953"
             ],
             [
              0.7777777777777778,
              "#fb9f3a"
             ],
             [
              0.8888888888888888,
              "#fdca26"
             ],
             [
              1,
              "#f0f921"
             ]
            ],
            "type": "contour"
           }
          ],
          "contourcarpet": [
           {
            "colorbar": {
             "outlinewidth": 0,
             "ticks": ""
            },
            "type": "contourcarpet"
           }
          ],
          "heatmap": [
           {
            "colorbar": {
             "outlinewidth": 0,
             "ticks": ""
            },
            "colorscale": [
             [
              0,
              "#0d0887"
             ],
             [
              0.1111111111111111,
              "#46039f"
             ],
             [
              0.2222222222222222,
              "#7201a8"
             ],
             [
              0.3333333333333333,
              "#9c179e"
             ],
             [
              0.4444444444444444,
              "#bd3786"
             ],
             [
              0.5555555555555556,
              "#d8576b"
             ],
             [
              0.6666666666666666,
              "#ed7953"
             ],
             [
              0.7777777777777778,
              "#fb9f3a"
             ],
             [
              0.8888888888888888,
              "#fdca26"
             ],
             [
              1,
              "#f0f921"
             ]
            ],
            "type": "heatmap"
           }
          ],
          "heatmapgl": [
           {
            "colorbar": {
             "outlinewidth": 0,
             "ticks": ""
            },
            "colorscale": [
             [
              0,
              "#0d0887"
             ],
             [
              0.1111111111111111,
              "#46039f"
             ],
             [
              0.2222222222222222,
              "#7201a8"
             ],
             [
              0.3333333333333333,
              "#9c179e"
             ],
             [
              0.4444444444444444,
              "#bd3786"
             ],
             [
              0.5555555555555556,
              "#d8576b"
             ],
             [
              0.6666666666666666,
              "#ed7953"
             ],
             [
              0.7777777777777778,
              "#fb9f3a"
             ],
             [
              0.8888888888888888,
              "#fdca26"
             ],
             [
              1,
              "#f0f921"
             ]
            ],
            "type": "heatmapgl"
           }
          ],
          "histogram": [
           {
            "marker": {
             "pattern": {
              "fillmode": "overlay",
              "size": 10,
              "solidity": 0.2
             }
            },
            "type": "histogram"
           }
          ],
          "histogram2d": [
           {
            "colorbar": {
             "outlinewidth": 0,
             "ticks": ""
            },
            "colorscale": [
             [
              0,
              "#0d0887"
             ],
             [
              0.1111111111111111,
              "#46039f"
             ],
             [
              0.2222222222222222,
              "#7201a8"
             ],
             [
              0.3333333333333333,
              "#9c179e"
             ],
             [
              0.4444444444444444,
              "#bd3786"
             ],
             [
              0.5555555555555556,
              "#d8576b"
             ],
             [
              0.6666666666666666,
              "#ed7953"
             ],
             [
              0.7777777777777778,
              "#fb9f3a"
             ],
             [
              0.8888888888888888,
              "#fdca26"
             ],
             [
              1,
              "#f0f921"
             ]
            ],
            "type": "histogram2d"
           }
          ],
          "histogram2dcontour": [
           {
            "colorbar": {
             "outlinewidth": 0,
             "ticks": ""
            },
            "colorscale": [
             [
              0,
              "#0d0887"
             ],
             [
              0.1111111111111111,
              "#46039f"
             ],
             [
              0.2222222222222222,
              "#7201a8"
             ],
             [
              0.3333333333333333,
              "#9c179e"
             ],
             [
              0.4444444444444444,
              "#bd3786"
             ],
             [
              0.5555555555555556,
              "#d8576b"
             ],
             [
              0.6666666666666666,
              "#ed7953"
             ],
             [
              0.7777777777777778,
              "#fb9f3a"
             ],
             [
              0.8888888888888888,
              "#fdca26"
             ],
             [
              1,
              "#f0f921"
             ]
            ],
            "type": "histogram2dcontour"
           }
          ],
          "mesh3d": [
           {
            "colorbar": {
             "outlinewidth": 0,
             "ticks": ""
            },
            "type": "mesh3d"
           }
          ],
          "parcoords": [
           {
            "line": {
             "colorbar": {
              "outlinewidth": 0,
              "ticks": ""
             }
            },
            "type": "parcoords"
           }
          ],
          "pie": [
           {
            "automargin": true,
            "type": "pie"
           }
          ],
          "scatter": [
           {
            "fillpattern": {
             "fillmode": "overlay",
             "size": 10,
             "solidity": 0.2
            },
            "type": "scatter"
           }
          ],
          "scatter3d": [
           {
            "line": {
             "colorbar": {
              "outlinewidth": 0,
              "ticks": ""
             }
            },
            "marker": {
             "colorbar": {
              "outlinewidth": 0,
              "ticks": ""
             }
            },
            "type": "scatter3d"
           }
          ],
          "scattercarpet": [
           {
            "marker": {
             "colorbar": {
              "outlinewidth": 0,
              "ticks": ""
             }
            },
            "type": "scattercarpet"
           }
          ],
          "scattergeo": [
           {
            "marker": {
             "colorbar": {
              "outlinewidth": 0,
              "ticks": ""
             }
            },
            "type": "scattergeo"
           }
          ],
          "scattergl": [
           {
            "marker": {
             "colorbar": {
              "outlinewidth": 0,
              "ticks": ""
             }
            },
            "type": "scattergl"
           }
          ],
          "scattermapbox": [
           {
            "marker": {
             "colorbar": {
              "outlinewidth": 0,
              "ticks": ""
             }
            },
            "type": "scattermapbox"
           }
          ],
          "scatterpolar": [
           {
            "marker": {
             "colorbar": {
              "outlinewidth": 0,
              "ticks": ""
             }
            },
            "type": "scatterpolar"
           }
          ],
          "scatterpolargl": [
           {
            "marker": {
             "colorbar": {
              "outlinewidth": 0,
              "ticks": ""
             }
            },
            "type": "scatterpolargl"
           }
          ],
          "scatterternary": [
           {
            "marker": {
             "colorbar": {
              "outlinewidth": 0,
              "ticks": ""
             }
            },
            "type": "scatterternary"
           }
          ],
          "surface": [
           {
            "colorbar": {
             "outlinewidth": 0,
             "ticks": ""
            },
            "colorscale": [
             [
              0,
              "#0d0887"
             ],
             [
              0.1111111111111111,
              "#46039f"
             ],
             [
              0.2222222222222222,
              "#7201a8"
             ],
             [
              0.3333333333333333,
              "#9c179e"
             ],
             [
              0.4444444444444444,
              "#bd3786"
             ],
             [
              0.5555555555555556,
              "#d8576b"
             ],
             [
              0.6666666666666666,
              "#ed7953"
             ],
             [
              0.7777777777777778,
              "#fb9f3a"
             ],
             [
              0.8888888888888888,
              "#fdca26"
             ],
             [
              1,
              "#f0f921"
             ]
            ],
            "type": "surface"
           }
          ],
          "table": [
           {
            "cells": {
             "fill": {
              "color": "#EBF0F8"
             },
             "line": {
              "color": "white"
             }
            },
            "header": {
             "fill": {
              "color": "#C8D4E3"
             },
             "line": {
              "color": "white"
             }
            },
            "type": "table"
           }
          ]
         },
         "layout": {
          "annotationdefaults": {
           "arrowcolor": "#2a3f5f",
           "arrowhead": 0,
           "arrowwidth": 1
          },
          "autotypenumbers": "strict",
          "coloraxis": {
           "colorbar": {
            "outlinewidth": 0,
            "ticks": ""
           }
          },
          "colorscale": {
           "diverging": [
            [
             0,
             "#8e0152"
            ],
            [
             0.1,
             "#c51b7d"
            ],
            [
             0.2,
             "#de77ae"
            ],
            [
             0.3,
             "#f1b6da"
            ],
            [
             0.4,
             "#fde0ef"
            ],
            [
             0.5,
             "#f7f7f7"
            ],
            [
             0.6,
             "#e6f5d0"
            ],
            [
             0.7,
             "#b8e186"
            ],
            [
             0.8,
             "#7fbc41"
            ],
            [
             0.9,
             "#4d9221"
            ],
            [
             1,
             "#276419"
            ]
           ],
           "sequential": [
            [
             0,
             "#0d0887"
            ],
            [
             0.1111111111111111,
             "#46039f"
            ],
            [
             0.2222222222222222,
             "#7201a8"
            ],
            [
             0.3333333333333333,
             "#9c179e"
            ],
            [
             0.4444444444444444,
             "#bd3786"
            ],
            [
             0.5555555555555556,
             "#d8576b"
            ],
            [
             0.6666666666666666,
             "#ed7953"
            ],
            [
             0.7777777777777778,
             "#fb9f3a"
            ],
            [
             0.8888888888888888,
             "#fdca26"
            ],
            [
             1,
             "#f0f921"
            ]
           ],
           "sequentialminus": [
            [
             0,
             "#0d0887"
            ],
            [
             0.1111111111111111,
             "#46039f"
            ],
            [
             0.2222222222222222,
             "#7201a8"
            ],
            [
             0.3333333333333333,
             "#9c179e"
            ],
            [
             0.4444444444444444,
             "#bd3786"
            ],
            [
             0.5555555555555556,
             "#d8576b"
            ],
            [
             0.6666666666666666,
             "#ed7953"
            ],
            [
             0.7777777777777778,
             "#fb9f3a"
            ],
            [
             0.8888888888888888,
             "#fdca26"
            ],
            [
             1,
             "#f0f921"
            ]
           ]
          },
          "colorway": [
           "#636efa",
           "#EF553B",
           "#00cc96",
           "#ab63fa",
           "#FFA15A",
           "#19d3f3",
           "#FF6692",
           "#B6E880",
           "#FF97FF",
           "#FECB52"
          ],
          "font": {
           "color": "#2a3f5f"
          },
          "geo": {
           "bgcolor": "white",
           "lakecolor": "white",
           "landcolor": "#E5ECF6",
           "showlakes": true,
           "showland": true,
           "subunitcolor": "white"
          },
          "hoverlabel": {
           "align": "left"
          },
          "hovermode": "closest",
          "mapbox": {
           "style": "light"
          },
          "paper_bgcolor": "white",
          "plot_bgcolor": "#E5ECF6",
          "polar": {
           "angularaxis": {
            "gridcolor": "white",
            "linecolor": "white",
            "ticks": ""
           },
           "bgcolor": "#E5ECF6",
           "radialaxis": {
            "gridcolor": "white",
            "linecolor": "white",
            "ticks": ""
           }
          },
          "scene": {
           "xaxis": {
            "backgroundcolor": "#E5ECF6",
            "gridcolor": "white",
            "gridwidth": 2,
            "linecolor": "white",
            "showbackground": true,
            "ticks": "",
            "zerolinecolor": "white"
           },
           "yaxis": {
            "backgroundcolor": "#E5ECF6",
            "gridcolor": "white",
            "gridwidth": 2,
            "linecolor": "white",
            "showbackground": true,
            "ticks": "",
            "zerolinecolor": "white"
           },
           "zaxis": {
            "backgroundcolor": "#E5ECF6",
            "gridcolor": "white",
            "gridwidth": 2,
            "linecolor": "white",
            "showbackground": true,
            "ticks": "",
            "zerolinecolor": "white"
           }
          },
          "shapedefaults": {
           "line": {
            "color": "#2a3f5f"
           }
          },
          "ternary": {
           "aaxis": {
            "gridcolor": "white",
            "linecolor": "white",
            "ticks": ""
           },
           "baxis": {
            "gridcolor": "white",
            "linecolor": "white",
            "ticks": ""
           },
           "bgcolor": "#E5ECF6",
           "caxis": {
            "gridcolor": "white",
            "linecolor": "white",
            "ticks": ""
           }
          },
          "title": {
           "x": 0.05
          },
          "xaxis": {
           "automargin": true,
           "gridcolor": "white",
           "linecolor": "white",
           "ticks": "",
           "title": {
            "standoff": 15
           },
           "zerolinecolor": "white",
           "zerolinewidth": 2
          },
          "yaxis": {
           "automargin": true,
           "gridcolor": "white",
           "linecolor": "white",
           "ticks": "",
           "title": {
            "standoff": 15
           },
           "zerolinecolor": "white",
           "zerolinewidth": 2
          }
         }
        },
        "width": 1000
       }
      }
     },
     "metadata": {},
     "output_type": "display_data"
    }
   ],
   "source": [
    "import plotly\n",
    "import plotly.express as px\n",
    "\n",
    "# передаём датафрейм и поля, которые нужно использовать для осей абсцисс, ординат и аппликат\n",
    "fig = px.scatter_3d(\n",
    "    data_frame=df, \n",
    "    x = 'age', \n",
    "    y = 'annual_income', \n",
    "    z = 'spending_score', \n",
    "    width=1000,\n",
    "    height=700\n",
    ")\n",
    "\n",
    "#отображаем график\n",
    "fig.show()"
   ]
  },
  {
   "cell_type": "code",
   "execution_count": 6,
   "metadata": {},
   "outputs": [],
   "source": [
    "def get_3d_visualization(df, clust_res):\n",
    "    fig = px.scatter_3d(\n",
    "        data_frame=df, \n",
    "        x = 'age', \n",
    "        y = 'annual_income', \n",
    "        z = 'spending_score', \n",
    "        color = clust_res,\n",
    "        width=1000,\n",
    "        height=700\n",
    "    )\n",
    "\n",
    "    #возвращаем график\n",
    "    return fig"
   ]
  },
  {
   "cell_type": "code",
   "execution_count": 7,
   "metadata": {},
   "outputs": [],
   "source": [
    "X = df[['age', 'annual_income', 'spending_score']]"
   ]
  },
  {
   "cell_type": "code",
   "execution_count": 8,
   "metadata": {},
   "outputs": [],
   "source": [
    "# импортируем DBSCAN кластеризацию\n",
    "from sklearn.cluster import DBSCAN\n",
    "\n",
    "#запускаем кластеризацию на наших данных\n",
    "clustering = DBSCAN().fit(X)"
   ]
  },
  {
   "cell_type": "code",
   "execution_count": 10,
   "metadata": {},
   "outputs": [
    {
     "data": {
      "application/vnd.plotly.v1+json": {
       "config": {
        "plotlyServerURL": "https://plot.ly"
       },
       "data": [
        {
         "hovertemplate": "age=%{x}<br>annual_income=%{y}<br>spending_score=%{z}<br>color=%{marker.color}<extra></extra>",
         "legendgroup": "",
         "marker": {
          "color": [
           -1,
           -1,
           -1,
           -1,
           -1,
           -1,
           -1,
           -1,
           -1,
           -1,
           -1,
           -1,
           -1,
           -1,
           -1,
           -1,
           -1,
           -1,
           -1,
           -1,
           -1,
           -1,
           -1,
           -1,
           -1,
           -1,
           -1,
           -1,
           -1,
           -1,
           -1,
           -1,
           -1,
           -1,
           -1,
           -1,
           -1,
           -1,
           -1,
           -1,
           -1,
           -1,
           -1,
           -1,
           -1,
           -1,
           -1,
           -1,
           -1,
           -1,
           -1,
           -1,
           -1,
           -1,
           -1,
           -1,
           -1,
           -1,
           -1,
           -1,
           -1,
           -1,
           -1,
           -1,
           -1,
           -1,
           -1,
           -1,
           -1,
           -1,
           -1,
           -1,
           -1,
           -1,
           -1,
           -1,
           -1,
           -1,
           -1,
           -1,
           -1,
           -1,
           -1,
           -1,
           -1,
           -1,
           -1,
           -1,
           -1,
           -1,
           -1,
           -1,
           -1,
           -1,
           -1,
           -1,
           -1,
           -1,
           -1,
           -1,
           -1,
           -1,
           -1,
           -1,
           -1,
           -1,
           -1,
           -1,
           -1,
           -1,
           -1,
           -1,
           -1,
           -1,
           -1,
           -1,
           -1,
           -1,
           -1,
           -1,
           -1,
           -1,
           -1,
           -1,
           -1,
           -1,
           -1,
           -1,
           -1,
           -1,
           -1,
           -1,
           -1,
           -1,
           -1,
           -1,
           -1,
           -1,
           -1,
           -1,
           -1,
           -1,
           -1,
           -1,
           -1,
           -1,
           -1,
           -1,
           -1,
           -1,
           -1,
           -1,
           -1,
           -1,
           -1,
           -1,
           -1,
           -1,
           -1,
           -1,
           -1,
           -1,
           -1,
           -1,
           -1,
           -1,
           -1,
           -1,
           -1,
           -1,
           -1,
           -1,
           -1,
           -1,
           -1,
           -1,
           -1,
           -1,
           -1,
           -1,
           -1,
           -1,
           -1,
           -1,
           -1,
           -1,
           -1,
           -1,
           -1,
           -1,
           -1,
           -1,
           -1,
           -1,
           -1,
           -1,
           -1,
           -1,
           -1,
           -1
          ],
          "coloraxis": "coloraxis",
          "symbol": "circle"
         },
         "mode": "markers",
         "name": "",
         "scene": "scene",
         "showlegend": false,
         "type": "scatter3d",
         "x": [
          19,
          21,
          20,
          23,
          31,
          22,
          35,
          23,
          64,
          30,
          67,
          35,
          58,
          24,
          37,
          22,
          35,
          20,
          52,
          35,
          35,
          25,
          46,
          31,
          54,
          29,
          45,
          35,
          40,
          23,
          60,
          21,
          53,
          18,
          49,
          21,
          42,
          30,
          36,
          20,
          65,
          24,
          48,
          31,
          49,
          24,
          50,
          27,
          29,
          31,
          49,
          33,
          31,
          59,
          50,
          47,
          51,
          69,
          27,
          53,
          70,
          19,
          67,
          54,
          63,
          18,
          43,
          68,
          19,
          32,
          70,
          47,
          60,
          60,
          59,
          26,
          45,
          40,
          23,
          49,
          57,
          38,
          67,
          46,
          21,
          48,
          55,
          22,
          34,
          50,
          68,
          18,
          48,
          40,
          32,
          24,
          47,
          27,
          48,
          20,
          23,
          49,
          67,
          26,
          49,
          21,
          66,
          54,
          68,
          66,
          65,
          19,
          38,
          19,
          18,
          19,
          63,
          49,
          51,
          50,
          27,
          38,
          40,
          39,
          23,
          31,
          43,
          40,
          59,
          38,
          47,
          39,
          25,
          31,
          20,
          29,
          44,
          32,
          19,
          35,
          57,
          32,
          28,
          32,
          25,
          28,
          48,
          32,
          34,
          34,
          43,
          39,
          44,
          38,
          47,
          27,
          37,
          30,
          34,
          30,
          56,
          29,
          19,
          31,
          50,
          36,
          42,
          33,
          36,
          32,
          40,
          28,
          36,
          36,
          52,
          30,
          58,
          27,
          59,
          35,
          37,
          32,
          46,
          29,
          41,
          30,
          54,
          28,
          41,
          36,
          34,
          32,
          33,
          38,
          47,
          35,
          45,
          32,
          32,
          30
         ],
         "y": [
          15,
          15,
          16,
          16,
          17,
          17,
          18,
          18,
          19,
          19,
          19,
          19,
          20,
          20,
          20,
          20,
          21,
          21,
          23,
          23,
          24,
          24,
          25,
          25,
          28,
          28,
          28,
          28,
          29,
          29,
          30,
          30,
          33,
          33,
          33,
          33,
          34,
          34,
          37,
          37,
          38,
          38,
          39,
          39,
          39,
          39,
          40,
          40,
          40,
          40,
          42,
          42,
          43,
          43,
          43,
          43,
          44,
          44,
          46,
          46,
          46,
          46,
          47,
          47,
          48,
          48,
          48,
          48,
          48,
          48,
          49,
          49,
          50,
          50,
          54,
          54,
          54,
          54,
          54,
          54,
          54,
          54,
          54,
          54,
          54,
          54,
          57,
          57,
          58,
          58,
          59,
          59,
          60,
          60,
          60,
          60,
          60,
          60,
          61,
          61,
          62,
          62,
          62,
          62,
          62,
          62,
          63,
          63,
          63,
          63,
          63,
          63,
          64,
          64,
          65,
          65,
          65,
          65,
          67,
          67,
          67,
          67,
          69,
          69,
          70,
          70,
          71,
          71,
          71,
          71,
          71,
          71,
          72,
          72,
          73,
          73,
          73,
          73,
          74,
          74,
          75,
          75,
          76,
          76,
          77,
          77,
          77,
          77,
          78,
          78,
          78,
          78,
          78,
          78,
          78,
          78,
          78,
          78,
          78,
          78,
          79,
          79,
          81,
          81,
          85,
          85,
          86,
          86,
          87,
          87,
          87,
          87,
          87,
          87,
          88,
          88,
          88,
          88,
          93,
          93,
          97,
          97,
          98,
          98,
          99,
          99,
          101,
          101,
          103,
          103,
          103,
          103,
          113,
          113,
          120,
          120,
          126,
          126,
          137,
          137
         ],
         "z": [
          39,
          81,
          6,
          77,
          40,
          76,
          6,
          94,
          3,
          72,
          14,
          99,
          15,
          77,
          13,
          79,
          35,
          66,
          29,
          98,
          35,
          73,
          5,
          73,
          14,
          82,
          32,
          61,
          31,
          87,
          4,
          73,
          4,
          92,
          14,
          81,
          17,
          73,
          26,
          75,
          35,
          92,
          36,
          61,
          28,
          65,
          55,
          47,
          42,
          42,
          52,
          60,
          54,
          60,
          45,
          41,
          50,
          46,
          51,
          46,
          56,
          55,
          52,
          59,
          51,
          59,
          50,
          48,
          59,
          47,
          55,
          42,
          49,
          56,
          47,
          54,
          53,
          48,
          52,
          42,
          51,
          55,
          41,
          44,
          57,
          46,
          58,
          55,
          60,
          46,
          55,
          41,
          49,
          40,
          42,
          52,
          47,
          50,
          42,
          49,
          41,
          48,
          59,
          55,
          56,
          42,
          50,
          46,
          43,
          48,
          52,
          54,
          42,
          46,
          48,
          50,
          43,
          59,
          43,
          57,
          56,
          40,
          58,
          91,
          29,
          77,
          35,
          95,
          11,
          75,
          9,
          75,
          34,
          71,
          5,
          88,
          7,
          73,
          10,
          72,
          5,
          93,
          40,
          87,
          12,
          97,
          36,
          74,
          22,
          90,
          17,
          88,
          20,
          76,
          16,
          89,
          1,
          78,
          1,
          73,
          35,
          83,
          5,
          93,
          26,
          75,
          20,
          95,
          27,
          63,
          13,
          75,
          10,
          92,
          13,
          86,
          15,
          69,
          14,
          90,
          32,
          86,
          15,
          88,
          39,
          97,
          24,
          68,
          17,
          85,
          23,
          69,
          8,
          91,
          16,
          79,
          28,
          74,
          18,
          83
         ]
        }
       ],
       "layout": {
        "coloraxis": {
         "colorbar": {
          "title": {
           "text": "color"
          }
         },
         "colorscale": [
          [
           0,
           "#0d0887"
          ],
          [
           0.1111111111111111,
           "#46039f"
          ],
          [
           0.2222222222222222,
           "#7201a8"
          ],
          [
           0.3333333333333333,
           "#9c179e"
          ],
          [
           0.4444444444444444,
           "#bd3786"
          ],
          [
           0.5555555555555556,
           "#d8576b"
          ],
          [
           0.6666666666666666,
           "#ed7953"
          ],
          [
           0.7777777777777778,
           "#fb9f3a"
          ],
          [
           0.8888888888888888,
           "#fdca26"
          ],
          [
           1,
           "#f0f921"
          ]
         ]
        },
        "height": 700,
        "legend": {
         "tracegroupgap": 0
        },
        "margin": {
         "t": 60
        },
        "scene": {
         "domain": {
          "x": [
           0,
           1
          ],
          "y": [
           0,
           1
          ]
         },
         "xaxis": {
          "title": {
           "text": "age"
          }
         },
         "yaxis": {
          "title": {
           "text": "annual_income"
          }
         },
         "zaxis": {
          "title": {
           "text": "spending_score"
          }
         }
        },
        "template": {
         "data": {
          "bar": [
           {
            "error_x": {
             "color": "#2a3f5f"
            },
            "error_y": {
             "color": "#2a3f5f"
            },
            "marker": {
             "line": {
              "color": "#E5ECF6",
              "width": 0.5
             },
             "pattern": {
              "fillmode": "overlay",
              "size": 10,
              "solidity": 0.2
             }
            },
            "type": "bar"
           }
          ],
          "barpolar": [
           {
            "marker": {
             "line": {
              "color": "#E5ECF6",
              "width": 0.5
             },
             "pattern": {
              "fillmode": "overlay",
              "size": 10,
              "solidity": 0.2
             }
            },
            "type": "barpolar"
           }
          ],
          "carpet": [
           {
            "aaxis": {
             "endlinecolor": "#2a3f5f",
             "gridcolor": "white",
             "linecolor": "white",
             "minorgridcolor": "white",
             "startlinecolor": "#2a3f5f"
            },
            "baxis": {
             "endlinecolor": "#2a3f5f",
             "gridcolor": "white",
             "linecolor": "white",
             "minorgridcolor": "white",
             "startlinecolor": "#2a3f5f"
            },
            "type": "carpet"
           }
          ],
          "choropleth": [
           {
            "colorbar": {
             "outlinewidth": 0,
             "ticks": ""
            },
            "type": "choropleth"
           }
          ],
          "contour": [
           {
            "colorbar": {
             "outlinewidth": 0,
             "ticks": ""
            },
            "colorscale": [
             [
              0,
              "#0d0887"
             ],
             [
              0.1111111111111111,
              "#46039f"
             ],
             [
              0.2222222222222222,
              "#7201a8"
             ],
             [
              0.3333333333333333,
              "#9c179e"
             ],
             [
              0.4444444444444444,
              "#bd3786"
             ],
             [
              0.5555555555555556,
              "#d8576b"
             ],
             [
              0.6666666666666666,
              "#ed7953"
             ],
             [
              0.7777777777777778,
              "#fb9f3a"
             ],
             [
              0.8888888888888888,
              "#fdca26"
             ],
             [
              1,
              "#f0f921"
             ]
            ],
            "type": "contour"
           }
          ],
          "contourcarpet": [
           {
            "colorbar": {
             "outlinewidth": 0,
             "ticks": ""
            },
            "type": "contourcarpet"
           }
          ],
          "heatmap": [
           {
            "colorbar": {
             "outlinewidth": 0,
             "ticks": ""
            },
            "colorscale": [
             [
              0,
              "#0d0887"
             ],
             [
              0.1111111111111111,
              "#46039f"
             ],
             [
              0.2222222222222222,
              "#7201a8"
             ],
             [
              0.3333333333333333,
              "#9c179e"
             ],
             [
              0.4444444444444444,
              "#bd3786"
             ],
             [
              0.5555555555555556,
              "#d8576b"
             ],
             [
              0.6666666666666666,
              "#ed7953"
             ],
             [
              0.7777777777777778,
              "#fb9f3a"
             ],
             [
              0.8888888888888888,
              "#fdca26"
             ],
             [
              1,
              "#f0f921"
             ]
            ],
            "type": "heatmap"
           }
          ],
          "heatmapgl": [
           {
            "colorbar": {
             "outlinewidth": 0,
             "ticks": ""
            },
            "colorscale": [
             [
              0,
              "#0d0887"
             ],
             [
              0.1111111111111111,
              "#46039f"
             ],
             [
              0.2222222222222222,
              "#7201a8"
             ],
             [
              0.3333333333333333,
              "#9c179e"
             ],
             [
              0.4444444444444444,
              "#bd3786"
             ],
             [
              0.5555555555555556,
              "#d8576b"
             ],
             [
              0.6666666666666666,
              "#ed7953"
             ],
             [
              0.7777777777777778,
              "#fb9f3a"
             ],
             [
              0.8888888888888888,
              "#fdca26"
             ],
             [
              1,
              "#f0f921"
             ]
            ],
            "type": "heatmapgl"
           }
          ],
          "histogram": [
           {
            "marker": {
             "pattern": {
              "fillmode": "overlay",
              "size": 10,
              "solidity": 0.2
             }
            },
            "type": "histogram"
           }
          ],
          "histogram2d": [
           {
            "colorbar": {
             "outlinewidth": 0,
             "ticks": ""
            },
            "colorscale": [
             [
              0,
              "#0d0887"
             ],
             [
              0.1111111111111111,
              "#46039f"
             ],
             [
              0.2222222222222222,
              "#7201a8"
             ],
             [
              0.3333333333333333,
              "#9c179e"
             ],
             [
              0.4444444444444444,
              "#bd3786"
             ],
             [
              0.5555555555555556,
              "#d8576b"
             ],
             [
              0.6666666666666666,
              "#ed7953"
             ],
             [
              0.7777777777777778,
              "#fb9f3a"
             ],
             [
              0.8888888888888888,
              "#fdca26"
             ],
             [
              1,
              "#f0f921"
             ]
            ],
            "type": "histogram2d"
           }
          ],
          "histogram2dcontour": [
           {
            "colorbar": {
             "outlinewidth": 0,
             "ticks": ""
            },
            "colorscale": [
             [
              0,
              "#0d0887"
             ],
             [
              0.1111111111111111,
              "#46039f"
             ],
             [
              0.2222222222222222,
              "#7201a8"
             ],
             [
              0.3333333333333333,
              "#9c179e"
             ],
             [
              0.4444444444444444,
              "#bd3786"
             ],
             [
              0.5555555555555556,
              "#d8576b"
             ],
             [
              0.6666666666666666,
              "#ed7953"
             ],
             [
              0.7777777777777778,
              "#fb9f3a"
             ],
             [
              0.8888888888888888,
              "#fdca26"
             ],
             [
              1,
              "#f0f921"
             ]
            ],
            "type": "histogram2dcontour"
           }
          ],
          "mesh3d": [
           {
            "colorbar": {
             "outlinewidth": 0,
             "ticks": ""
            },
            "type": "mesh3d"
           }
          ],
          "parcoords": [
           {
            "line": {
             "colorbar": {
              "outlinewidth": 0,
              "ticks": ""
             }
            },
            "type": "parcoords"
           }
          ],
          "pie": [
           {
            "automargin": true,
            "type": "pie"
           }
          ],
          "scatter": [
           {
            "fillpattern": {
             "fillmode": "overlay",
             "size": 10,
             "solidity": 0.2
            },
            "type": "scatter"
           }
          ],
          "scatter3d": [
           {
            "line": {
             "colorbar": {
              "outlinewidth": 0,
              "ticks": ""
             }
            },
            "marker": {
             "colorbar": {
              "outlinewidth": 0,
              "ticks": ""
             }
            },
            "type": "scatter3d"
           }
          ],
          "scattercarpet": [
           {
            "marker": {
             "colorbar": {
              "outlinewidth": 0,
              "ticks": ""
             }
            },
            "type": "scattercarpet"
           }
          ],
          "scattergeo": [
           {
            "marker": {
             "colorbar": {
              "outlinewidth": 0,
              "ticks": ""
             }
            },
            "type": "scattergeo"
           }
          ],
          "scattergl": [
           {
            "marker": {
             "colorbar": {
              "outlinewidth": 0,
              "ticks": ""
             }
            },
            "type": "scattergl"
           }
          ],
          "scattermapbox": [
           {
            "marker": {
             "colorbar": {
              "outlinewidth": 0,
              "ticks": ""
             }
            },
            "type": "scattermapbox"
           }
          ],
          "scatterpolar": [
           {
            "marker": {
             "colorbar": {
              "outlinewidth": 0,
              "ticks": ""
             }
            },
            "type": "scatterpolar"
           }
          ],
          "scatterpolargl": [
           {
            "marker": {
             "colorbar": {
              "outlinewidth": 0,
              "ticks": ""
             }
            },
            "type": "scatterpolargl"
           }
          ],
          "scatterternary": [
           {
            "marker": {
             "colorbar": {
              "outlinewidth": 0,
              "ticks": ""
             }
            },
            "type": "scatterternary"
           }
          ],
          "surface": [
           {
            "colorbar": {
             "outlinewidth": 0,
             "ticks": ""
            },
            "colorscale": [
             [
              0,
              "#0d0887"
             ],
             [
              0.1111111111111111,
              "#46039f"
             ],
             [
              0.2222222222222222,
              "#7201a8"
             ],
             [
              0.3333333333333333,
              "#9c179e"
             ],
             [
              0.4444444444444444,
              "#bd3786"
             ],
             [
              0.5555555555555556,
              "#d8576b"
             ],
             [
              0.6666666666666666,
              "#ed7953"
             ],
             [
              0.7777777777777778,
              "#fb9f3a"
             ],
             [
              0.8888888888888888,
              "#fdca26"
             ],
             [
              1,
              "#f0f921"
             ]
            ],
            "type": "surface"
           }
          ],
          "table": [
           {
            "cells": {
             "fill": {
              "color": "#EBF0F8"
             },
             "line": {
              "color": "white"
             }
            },
            "header": {
             "fill": {
              "color": "#C8D4E3"
             },
             "line": {
              "color": "white"
             }
            },
            "type": "table"
           }
          ]
         },
         "layout": {
          "annotationdefaults": {
           "arrowcolor": "#2a3f5f",
           "arrowhead": 0,
           "arrowwidth": 1
          },
          "autotypenumbers": "strict",
          "coloraxis": {
           "colorbar": {
            "outlinewidth": 0,
            "ticks": ""
           }
          },
          "colorscale": {
           "diverging": [
            [
             0,
             "#8e0152"
            ],
            [
             0.1,
             "#c51b7d"
            ],
            [
             0.2,
             "#de77ae"
            ],
            [
             0.3,
             "#f1b6da"
            ],
            [
             0.4,
             "#fde0ef"
            ],
            [
             0.5,
             "#f7f7f7"
            ],
            [
             0.6,
             "#e6f5d0"
            ],
            [
             0.7,
             "#b8e186"
            ],
            [
             0.8,
             "#7fbc41"
            ],
            [
             0.9,
             "#4d9221"
            ],
            [
             1,
             "#276419"
            ]
           ],
           "sequential": [
            [
             0,
             "#0d0887"
            ],
            [
             0.1111111111111111,
             "#46039f"
            ],
            [
             0.2222222222222222,
             "#7201a8"
            ],
            [
             0.3333333333333333,
             "#9c179e"
            ],
            [
             0.4444444444444444,
             "#bd3786"
            ],
            [
             0.5555555555555556,
             "#d8576b"
            ],
            [
             0.6666666666666666,
             "#ed7953"
            ],
            [
             0.7777777777777778,
             "#fb9f3a"
            ],
            [
             0.8888888888888888,
             "#fdca26"
            ],
            [
             1,
             "#f0f921"
            ]
           ],
           "sequentialminus": [
            [
             0,
             "#0d0887"
            ],
            [
             0.1111111111111111,
             "#46039f"
            ],
            [
             0.2222222222222222,
             "#7201a8"
            ],
            [
             0.3333333333333333,
             "#9c179e"
            ],
            [
             0.4444444444444444,
             "#bd3786"
            ],
            [
             0.5555555555555556,
             "#d8576b"
            ],
            [
             0.6666666666666666,
             "#ed7953"
            ],
            [
             0.7777777777777778,
             "#fb9f3a"
            ],
            [
             0.8888888888888888,
             "#fdca26"
            ],
            [
             1,
             "#f0f921"
            ]
           ]
          },
          "colorway": [
           "#636efa",
           "#EF553B",
           "#00cc96",
           "#ab63fa",
           "#FFA15A",
           "#19d3f3",
           "#FF6692",
           "#B6E880",
           "#FF97FF",
           "#FECB52"
          ],
          "font": {
           "color": "#2a3f5f"
          },
          "geo": {
           "bgcolor": "white",
           "lakecolor": "white",
           "landcolor": "#E5ECF6",
           "showlakes": true,
           "showland": true,
           "subunitcolor": "white"
          },
          "hoverlabel": {
           "align": "left"
          },
          "hovermode": "closest",
          "mapbox": {
           "style": "light"
          },
          "paper_bgcolor": "white",
          "plot_bgcolor": "#E5ECF6",
          "polar": {
           "angularaxis": {
            "gridcolor": "white",
            "linecolor": "white",
            "ticks": ""
           },
           "bgcolor": "#E5ECF6",
           "radialaxis": {
            "gridcolor": "white",
            "linecolor": "white",
            "ticks": ""
           }
          },
          "scene": {
           "xaxis": {
            "backgroundcolor": "#E5ECF6",
            "gridcolor": "white",
            "gridwidth": 2,
            "linecolor": "white",
            "showbackground": true,
            "ticks": "",
            "zerolinecolor": "white"
           },
           "yaxis": {
            "backgroundcolor": "#E5ECF6",
            "gridcolor": "white",
            "gridwidth": 2,
            "linecolor": "white",
            "showbackground": true,
            "ticks": "",
            "zerolinecolor": "white"
           },
           "zaxis": {
            "backgroundcolor": "#E5ECF6",
            "gridcolor": "white",
            "gridwidth": 2,
            "linecolor": "white",
            "showbackground": true,
            "ticks": "",
            "zerolinecolor": "white"
           }
          },
          "shapedefaults": {
           "line": {
            "color": "#2a3f5f"
           }
          },
          "ternary": {
           "aaxis": {
            "gridcolor": "white",
            "linecolor": "white",
            "ticks": ""
           },
           "baxis": {
            "gridcolor": "white",
            "linecolor": "white",
            "ticks": ""
           },
           "bgcolor": "#E5ECF6",
           "caxis": {
            "gridcolor": "white",
            "linecolor": "white",
            "ticks": ""
           }
          },
          "title": {
           "x": 0.05
          },
          "xaxis": {
           "automargin": true,
           "gridcolor": "white",
           "linecolor": "white",
           "ticks": "",
           "title": {
            "standoff": 15
           },
           "zerolinecolor": "white",
           "zerolinewidth": 2
          },
          "yaxis": {
           "automargin": true,
           "gridcolor": "white",
           "linecolor": "white",
           "ticks": "",
           "title": {
            "standoff": 15
           },
           "zerolinecolor": "white",
           "zerolinewidth": 2
          }
         }
        },
        "width": 1000
       }
      }
     },
     "metadata": {},
     "output_type": "display_data"
    }
   ],
   "source": [
    "get_3d_visualization(X, clustering.labels_)"
   ]
  },
  {
   "cell_type": "code",
   "execution_count": 11,
   "metadata": {},
   "outputs": [
    {
     "data": {
      "application/vnd.plotly.v1+json": {
       "config": {
        "plotlyServerURL": "https://plot.ly"
       },
       "data": [
        {
         "hovertemplate": "age=%{x}<br>annual_income=%{y}<br>spending_score=%{z}<br>dbscan_res_eps_11=%{marker.color}<extra></extra>",
         "legendgroup": "",
         "marker": {
          "color": [
           -1,
           0,
           -1,
           0,
           -1,
           0,
           -1,
           -1,
           -1,
           0,
           -1,
           -1,
           -1,
           0,
           -1,
           0,
           1,
           0,
           -1,
           -1,
           1,
           0,
           -1,
           0,
           -1,
           0,
           1,
           -1,
           1,
           0,
           -1,
           0,
           -1,
           0,
           -1,
           0,
           -1,
           0,
           1,
           0,
           -1,
           0,
           2,
           2,
           -1,
           0,
           2,
           2,
           2,
           2,
           2,
           2,
           2,
           2,
           2,
           2,
           2,
           2,
           2,
           2,
           2,
           2,
           2,
           2,
           2,
           2,
           2,
           2,
           2,
           2,
           2,
           2,
           2,
           2,
           2,
           2,
           2,
           2,
           2,
           2,
           2,
           2,
           2,
           2,
           2,
           2,
           2,
           2,
           2,
           2,
           2,
           2,
           2,
           2,
           2,
           2,
           2,
           2,
           2,
           2,
           2,
           2,
           2,
           2,
           2,
           2,
           2,
           2,
           2,
           2,
           2,
           2,
           2,
           2,
           2,
           2,
           2,
           2,
           2,
           2,
           2,
           2,
           2,
           3,
           -1,
           3,
           2,
           3,
           -1,
           3,
           4,
           3,
           -1,
           3,
           -1,
           3,
           4,
           3,
           -1,
           3,
           -1,
           3,
           -1,
           3,
           -1,
           3,
           -1,
           3,
           4,
           3,
           4,
           3,
           4,
           3,
           4,
           3,
           -1,
           3,
           -1,
           3,
           -1,
           3,
           -1,
           3,
           4,
           3,
           4,
           3,
           4,
           -1,
           4,
           3,
           -1,
           3,
           -1,
           3,
           -1,
           3,
           -1,
           3,
           -1,
           3,
           -1,
           3,
           -1,
           3,
           -1,
           -1,
           -1,
           3,
           -1,
           -1,
           -1,
           -1,
           -1,
           -1,
           -1,
           -1,
           -1,
           -1
          ],
          "coloraxis": "coloraxis",
          "symbol": "circle"
         },
         "mode": "markers",
         "name": "",
         "scene": "scene",
         "showlegend": false,
         "type": "scatter3d",
         "x": [
          19,
          21,
          20,
          23,
          31,
          22,
          35,
          23,
          64,
          30,
          67,
          35,
          58,
          24,
          37,
          22,
          35,
          20,
          52,
          35,
          35,
          25,
          46,
          31,
          54,
          29,
          45,
          35,
          40,
          23,
          60,
          21,
          53,
          18,
          49,
          21,
          42,
          30,
          36,
          20,
          65,
          24,
          48,
          31,
          49,
          24,
          50,
          27,
          29,
          31,
          49,
          33,
          31,
          59,
          50,
          47,
          51,
          69,
          27,
          53,
          70,
          19,
          67,
          54,
          63,
          18,
          43,
          68,
          19,
          32,
          70,
          47,
          60,
          60,
          59,
          26,
          45,
          40,
          23,
          49,
          57,
          38,
          67,
          46,
          21,
          48,
          55,
          22,
          34,
          50,
          68,
          18,
          48,
          40,
          32,
          24,
          47,
          27,
          48,
          20,
          23,
          49,
          67,
          26,
          49,
          21,
          66,
          54,
          68,
          66,
          65,
          19,
          38,
          19,
          18,
          19,
          63,
          49,
          51,
          50,
          27,
          38,
          40,
          39,
          23,
          31,
          43,
          40,
          59,
          38,
          47,
          39,
          25,
          31,
          20,
          29,
          44,
          32,
          19,
          35,
          57,
          32,
          28,
          32,
          25,
          28,
          48,
          32,
          34,
          34,
          43,
          39,
          44,
          38,
          47,
          27,
          37,
          30,
          34,
          30,
          56,
          29,
          19,
          31,
          50,
          36,
          42,
          33,
          36,
          32,
          40,
          28,
          36,
          36,
          52,
          30,
          58,
          27,
          59,
          35,
          37,
          32,
          46,
          29,
          41,
          30,
          54,
          28,
          41,
          36,
          34,
          32,
          33,
          38,
          47,
          35,
          45,
          32,
          32,
          30
         ],
         "y": [
          15,
          15,
          16,
          16,
          17,
          17,
          18,
          18,
          19,
          19,
          19,
          19,
          20,
          20,
          20,
          20,
          21,
          21,
          23,
          23,
          24,
          24,
          25,
          25,
          28,
          28,
          28,
          28,
          29,
          29,
          30,
          30,
          33,
          33,
          33,
          33,
          34,
          34,
          37,
          37,
          38,
          38,
          39,
          39,
          39,
          39,
          40,
          40,
          40,
          40,
          42,
          42,
          43,
          43,
          43,
          43,
          44,
          44,
          46,
          46,
          46,
          46,
          47,
          47,
          48,
          48,
          48,
          48,
          48,
          48,
          49,
          49,
          50,
          50,
          54,
          54,
          54,
          54,
          54,
          54,
          54,
          54,
          54,
          54,
          54,
          54,
          57,
          57,
          58,
          58,
          59,
          59,
          60,
          60,
          60,
          60,
          60,
          60,
          61,
          61,
          62,
          62,
          62,
          62,
          62,
          62,
          63,
          63,
          63,
          63,
          63,
          63,
          64,
          64,
          65,
          65,
          65,
          65,
          67,
          67,
          67,
          67,
          69,
          69,
          70,
          70,
          71,
          71,
          71,
          71,
          71,
          71,
          72,
          72,
          73,
          73,
          73,
          73,
          74,
          74,
          75,
          75,
          76,
          76,
          77,
          77,
          77,
          77,
          78,
          78,
          78,
          78,
          78,
          78,
          78,
          78,
          78,
          78,
          78,
          78,
          79,
          79,
          81,
          81,
          85,
          85,
          86,
          86,
          87,
          87,
          87,
          87,
          87,
          87,
          88,
          88,
          88,
          88,
          93,
          93,
          97,
          97,
          98,
          98,
          99,
          99,
          101,
          101,
          103,
          103,
          103,
          103,
          113,
          113,
          120,
          120,
          126,
          126,
          137,
          137
         ],
         "z": [
          39,
          81,
          6,
          77,
          40,
          76,
          6,
          94,
          3,
          72,
          14,
          99,
          15,
          77,
          13,
          79,
          35,
          66,
          29,
          98,
          35,
          73,
          5,
          73,
          14,
          82,
          32,
          61,
          31,
          87,
          4,
          73,
          4,
          92,
          14,
          81,
          17,
          73,
          26,
          75,
          35,
          92,
          36,
          61,
          28,
          65,
          55,
          47,
          42,
          42,
          52,
          60,
          54,
          60,
          45,
          41,
          50,
          46,
          51,
          46,
          56,
          55,
          52,
          59,
          51,
          59,
          50,
          48,
          59,
          47,
          55,
          42,
          49,
          56,
          47,
          54,
          53,
          48,
          52,
          42,
          51,
          55,
          41,
          44,
          57,
          46,
          58,
          55,
          60,
          46,
          55,
          41,
          49,
          40,
          42,
          52,
          47,
          50,
          42,
          49,
          41,
          48,
          59,
          55,
          56,
          42,
          50,
          46,
          43,
          48,
          52,
          54,
          42,
          46,
          48,
          50,
          43,
          59,
          43,
          57,
          56,
          40,
          58,
          91,
          29,
          77,
          35,
          95,
          11,
          75,
          9,
          75,
          34,
          71,
          5,
          88,
          7,
          73,
          10,
          72,
          5,
          93,
          40,
          87,
          12,
          97,
          36,
          74,
          22,
          90,
          17,
          88,
          20,
          76,
          16,
          89,
          1,
          78,
          1,
          73,
          35,
          83,
          5,
          93,
          26,
          75,
          20,
          95,
          27,
          63,
          13,
          75,
          10,
          92,
          13,
          86,
          15,
          69,
          14,
          90,
          32,
          86,
          15,
          88,
          39,
          97,
          24,
          68,
          17,
          85,
          23,
          69,
          8,
          91,
          16,
          79,
          28,
          74,
          18,
          83
         ]
        }
       ],
       "layout": {
        "coloraxis": {
         "colorbar": {
          "title": {
           "text": "dbscan_res_eps_11"
          }
         },
         "colorscale": [
          [
           0,
           "#0d0887"
          ],
          [
           0.1111111111111111,
           "#46039f"
          ],
          [
           0.2222222222222222,
           "#7201a8"
          ],
          [
           0.3333333333333333,
           "#9c179e"
          ],
          [
           0.4444444444444444,
           "#bd3786"
          ],
          [
           0.5555555555555556,
           "#d8576b"
          ],
          [
           0.6666666666666666,
           "#ed7953"
          ],
          [
           0.7777777777777778,
           "#fb9f3a"
          ],
          [
           0.8888888888888888,
           "#fdca26"
          ],
          [
           1,
           "#f0f921"
          ]
         ]
        },
        "height": 700,
        "legend": {
         "tracegroupgap": 0
        },
        "margin": {
         "t": 60
        },
        "scene": {
         "domain": {
          "x": [
           0,
           1
          ],
          "y": [
           0,
           1
          ]
         },
         "xaxis": {
          "title": {
           "text": "age"
          }
         },
         "yaxis": {
          "title": {
           "text": "annual_income"
          }
         },
         "zaxis": {
          "title": {
           "text": "spending_score"
          }
         }
        },
        "template": {
         "data": {
          "bar": [
           {
            "error_x": {
             "color": "#2a3f5f"
            },
            "error_y": {
             "color": "#2a3f5f"
            },
            "marker": {
             "line": {
              "color": "#E5ECF6",
              "width": 0.5
             },
             "pattern": {
              "fillmode": "overlay",
              "size": 10,
              "solidity": 0.2
             }
            },
            "type": "bar"
           }
          ],
          "barpolar": [
           {
            "marker": {
             "line": {
              "color": "#E5ECF6",
              "width": 0.5
             },
             "pattern": {
              "fillmode": "overlay",
              "size": 10,
              "solidity": 0.2
             }
            },
            "type": "barpolar"
           }
          ],
          "carpet": [
           {
            "aaxis": {
             "endlinecolor": "#2a3f5f",
             "gridcolor": "white",
             "linecolor": "white",
             "minorgridcolor": "white",
             "startlinecolor": "#2a3f5f"
            },
            "baxis": {
             "endlinecolor": "#2a3f5f",
             "gridcolor": "white",
             "linecolor": "white",
             "minorgridcolor": "white",
             "startlinecolor": "#2a3f5f"
            },
            "type": "carpet"
           }
          ],
          "choropleth": [
           {
            "colorbar": {
             "outlinewidth": 0,
             "ticks": ""
            },
            "type": "choropleth"
           }
          ],
          "contour": [
           {
            "colorbar": {
             "outlinewidth": 0,
             "ticks": ""
            },
            "colorscale": [
             [
              0,
              "#0d0887"
             ],
             [
              0.1111111111111111,
              "#46039f"
             ],
             [
              0.2222222222222222,
              "#7201a8"
             ],
             [
              0.3333333333333333,
              "#9c179e"
             ],
             [
              0.4444444444444444,
              "#bd3786"
             ],
             [
              0.5555555555555556,
              "#d8576b"
             ],
             [
              0.6666666666666666,
              "#ed7953"
             ],
             [
              0.7777777777777778,
              "#fb9f3a"
             ],
             [
              0.8888888888888888,
              "#fdca26"
             ],
             [
              1,
              "#f0f921"
             ]
            ],
            "type": "contour"
           }
          ],
          "contourcarpet": [
           {
            "colorbar": {
             "outlinewidth": 0,
             "ticks": ""
            },
            "type": "contourcarpet"
           }
          ],
          "heatmap": [
           {
            "colorbar": {
             "outlinewidth": 0,
             "ticks": ""
            },
            "colorscale": [
             [
              0,
              "#0d0887"
             ],
             [
              0.1111111111111111,
              "#46039f"
             ],
             [
              0.2222222222222222,
              "#7201a8"
             ],
             [
              0.3333333333333333,
              "#9c179e"
             ],
             [
              0.4444444444444444,
              "#bd3786"
             ],
             [
              0.5555555555555556,
              "#d8576b"
             ],
             [
              0.6666666666666666,
              "#ed7953"
             ],
             [
              0.7777777777777778,
              "#fb9f3a"
             ],
             [
              0.8888888888888888,
              "#fdca26"
             ],
             [
              1,
              "#f0f921"
             ]
            ],
            "type": "heatmap"
           }
          ],
          "heatmapgl": [
           {
            "colorbar": {
             "outlinewidth": 0,
             "ticks": ""
            },
            "colorscale": [
             [
              0,
              "#0d0887"
             ],
             [
              0.1111111111111111,
              "#46039f"
             ],
             [
              0.2222222222222222,
              "#7201a8"
             ],
             [
              0.3333333333333333,
              "#9c179e"
             ],
             [
              0.4444444444444444,
              "#bd3786"
             ],
             [
              0.5555555555555556,
              "#d8576b"
             ],
             [
              0.6666666666666666,
              "#ed7953"
             ],
             [
              0.7777777777777778,
              "#fb9f3a"
             ],
             [
              0.8888888888888888,
              "#fdca26"
             ],
             [
              1,
              "#f0f921"
             ]
            ],
            "type": "heatmapgl"
           }
          ],
          "histogram": [
           {
            "marker": {
             "pattern": {
              "fillmode": "overlay",
              "size": 10,
              "solidity": 0.2
             }
            },
            "type": "histogram"
           }
          ],
          "histogram2d": [
           {
            "colorbar": {
             "outlinewidth": 0,
             "ticks": ""
            },
            "colorscale": [
             [
              0,
              "#0d0887"
             ],
             [
              0.1111111111111111,
              "#46039f"
             ],
             [
              0.2222222222222222,
              "#7201a8"
             ],
             [
              0.3333333333333333,
              "#9c179e"
             ],
             [
              0.4444444444444444,
              "#bd3786"
             ],
             [
              0.5555555555555556,
              "#d8576b"
             ],
             [
              0.6666666666666666,
              "#ed7953"
             ],
             [
              0.7777777777777778,
              "#fb9f3a"
             ],
             [
              0.8888888888888888,
              "#fdca26"
             ],
             [
              1,
              "#f0f921"
             ]
            ],
            "type": "histogram2d"
           }
          ],
          "histogram2dcontour": [
           {
            "colorbar": {
             "outlinewidth": 0,
             "ticks": ""
            },
            "colorscale": [
             [
              0,
              "#0d0887"
             ],
             [
              0.1111111111111111,
              "#46039f"
             ],
             [
              0.2222222222222222,
              "#7201a8"
             ],
             [
              0.3333333333333333,
              "#9c179e"
             ],
             [
              0.4444444444444444,
              "#bd3786"
             ],
             [
              0.5555555555555556,
              "#d8576b"
             ],
             [
              0.6666666666666666,
              "#ed7953"
             ],
             [
              0.7777777777777778,
              "#fb9f3a"
             ],
             [
              0.8888888888888888,
              "#fdca26"
             ],
             [
              1,
              "#f0f921"
             ]
            ],
            "type": "histogram2dcontour"
           }
          ],
          "mesh3d": [
           {
            "colorbar": {
             "outlinewidth": 0,
             "ticks": ""
            },
            "type": "mesh3d"
           }
          ],
          "parcoords": [
           {
            "line": {
             "colorbar": {
              "outlinewidth": 0,
              "ticks": ""
             }
            },
            "type": "parcoords"
           }
          ],
          "pie": [
           {
            "automargin": true,
            "type": "pie"
           }
          ],
          "scatter": [
           {
            "fillpattern": {
             "fillmode": "overlay",
             "size": 10,
             "solidity": 0.2
            },
            "type": "scatter"
           }
          ],
          "scatter3d": [
           {
            "line": {
             "colorbar": {
              "outlinewidth": 0,
              "ticks": ""
             }
            },
            "marker": {
             "colorbar": {
              "outlinewidth": 0,
              "ticks": ""
             }
            },
            "type": "scatter3d"
           }
          ],
          "scattercarpet": [
           {
            "marker": {
             "colorbar": {
              "outlinewidth": 0,
              "ticks": ""
             }
            },
            "type": "scattercarpet"
           }
          ],
          "scattergeo": [
           {
            "marker": {
             "colorbar": {
              "outlinewidth": 0,
              "ticks": ""
             }
            },
            "type": "scattergeo"
           }
          ],
          "scattergl": [
           {
            "marker": {
             "colorbar": {
              "outlinewidth": 0,
              "ticks": ""
             }
            },
            "type": "scattergl"
           }
          ],
          "scattermapbox": [
           {
            "marker": {
             "colorbar": {
              "outlinewidth": 0,
              "ticks": ""
             }
            },
            "type": "scattermapbox"
           }
          ],
          "scatterpolar": [
           {
            "marker": {
             "colorbar": {
              "outlinewidth": 0,
              "ticks": ""
             }
            },
            "type": "scatterpolar"
           }
          ],
          "scatterpolargl": [
           {
            "marker": {
             "colorbar": {
              "outlinewidth": 0,
              "ticks": ""
             }
            },
            "type": "scatterpolargl"
           }
          ],
          "scatterternary": [
           {
            "marker": {
             "colorbar": {
              "outlinewidth": 0,
              "ticks": ""
             }
            },
            "type": "scatterternary"
           }
          ],
          "surface": [
           {
            "colorbar": {
             "outlinewidth": 0,
             "ticks": ""
            },
            "colorscale": [
             [
              0,
              "#0d0887"
             ],
             [
              0.1111111111111111,
              "#46039f"
             ],
             [
              0.2222222222222222,
              "#7201a8"
             ],
             [
              0.3333333333333333,
              "#9c179e"
             ],
             [
              0.4444444444444444,
              "#bd3786"
             ],
             [
              0.5555555555555556,
              "#d8576b"
             ],
             [
              0.6666666666666666,
              "#ed7953"
             ],
             [
              0.7777777777777778,
              "#fb9f3a"
             ],
             [
              0.8888888888888888,
              "#fdca26"
             ],
             [
              1,
              "#f0f921"
             ]
            ],
            "type": "surface"
           }
          ],
          "table": [
           {
            "cells": {
             "fill": {
              "color": "#EBF0F8"
             },
             "line": {
              "color": "white"
             }
            },
            "header": {
             "fill": {
              "color": "#C8D4E3"
             },
             "line": {
              "color": "white"
             }
            },
            "type": "table"
           }
          ]
         },
         "layout": {
          "annotationdefaults": {
           "arrowcolor": "#2a3f5f",
           "arrowhead": 0,
           "arrowwidth": 1
          },
          "autotypenumbers": "strict",
          "coloraxis": {
           "colorbar": {
            "outlinewidth": 0,
            "ticks": ""
           }
          },
          "colorscale": {
           "diverging": [
            [
             0,
             "#8e0152"
            ],
            [
             0.1,
             "#c51b7d"
            ],
            [
             0.2,
             "#de77ae"
            ],
            [
             0.3,
             "#f1b6da"
            ],
            [
             0.4,
             "#fde0ef"
            ],
            [
             0.5,
             "#f7f7f7"
            ],
            [
             0.6,
             "#e6f5d0"
            ],
            [
             0.7,
             "#b8e186"
            ],
            [
             0.8,
             "#7fbc41"
            ],
            [
             0.9,
             "#4d9221"
            ],
            [
             1,
             "#276419"
            ]
           ],
           "sequential": [
            [
             0,
             "#0d0887"
            ],
            [
             0.1111111111111111,
             "#46039f"
            ],
            [
             0.2222222222222222,
             "#7201a8"
            ],
            [
             0.3333333333333333,
             "#9c179e"
            ],
            [
             0.4444444444444444,
             "#bd3786"
            ],
            [
             0.5555555555555556,
             "#d8576b"
            ],
            [
             0.6666666666666666,
             "#ed7953"
            ],
            [
             0.7777777777777778,
             "#fb9f3a"
            ],
            [
             0.8888888888888888,
             "#fdca26"
            ],
            [
             1,
             "#f0f921"
            ]
           ],
           "sequentialminus": [
            [
             0,
             "#0d0887"
            ],
            [
             0.1111111111111111,
             "#46039f"
            ],
            [
             0.2222222222222222,
             "#7201a8"
            ],
            [
             0.3333333333333333,
             "#9c179e"
            ],
            [
             0.4444444444444444,
             "#bd3786"
            ],
            [
             0.5555555555555556,
             "#d8576b"
            ],
            [
             0.6666666666666666,
             "#ed7953"
            ],
            [
             0.7777777777777778,
             "#fb9f3a"
            ],
            [
             0.8888888888888888,
             "#fdca26"
            ],
            [
             1,
             "#f0f921"
            ]
           ]
          },
          "colorway": [
           "#636efa",
           "#EF553B",
           "#00cc96",
           "#ab63fa",
           "#FFA15A",
           "#19d3f3",
           "#FF6692",
           "#B6E880",
           "#FF97FF",
           "#FECB52"
          ],
          "font": {
           "color": "#2a3f5f"
          },
          "geo": {
           "bgcolor": "white",
           "lakecolor": "white",
           "landcolor": "#E5ECF6",
           "showlakes": true,
           "showland": true,
           "subunitcolor": "white"
          },
          "hoverlabel": {
           "align": "left"
          },
          "hovermode": "closest",
          "mapbox": {
           "style": "light"
          },
          "paper_bgcolor": "white",
          "plot_bgcolor": "#E5ECF6",
          "polar": {
           "angularaxis": {
            "gridcolor": "white",
            "linecolor": "white",
            "ticks": ""
           },
           "bgcolor": "#E5ECF6",
           "radialaxis": {
            "gridcolor": "white",
            "linecolor": "white",
            "ticks": ""
           }
          },
          "scene": {
           "xaxis": {
            "backgroundcolor": "#E5ECF6",
            "gridcolor": "white",
            "gridwidth": 2,
            "linecolor": "white",
            "showbackground": true,
            "ticks": "",
            "zerolinecolor": "white"
           },
           "yaxis": {
            "backgroundcolor": "#E5ECF6",
            "gridcolor": "white",
            "gridwidth": 2,
            "linecolor": "white",
            "showbackground": true,
            "ticks": "",
            "zerolinecolor": "white"
           },
           "zaxis": {
            "backgroundcolor": "#E5ECF6",
            "gridcolor": "white",
            "gridwidth": 2,
            "linecolor": "white",
            "showbackground": true,
            "ticks": "",
            "zerolinecolor": "white"
           }
          },
          "shapedefaults": {
           "line": {
            "color": "#2a3f5f"
           }
          },
          "ternary": {
           "aaxis": {
            "gridcolor": "white",
            "linecolor": "white",
            "ticks": ""
           },
           "baxis": {
            "gridcolor": "white",
            "linecolor": "white",
            "ticks": ""
           },
           "bgcolor": "#E5ECF6",
           "caxis": {
            "gridcolor": "white",
            "linecolor": "white",
            "ticks": ""
           }
          },
          "title": {
           "x": 0.05
          },
          "xaxis": {
           "automargin": true,
           "gridcolor": "white",
           "linecolor": "white",
           "ticks": "",
           "title": {
            "standoff": 15
           },
           "zerolinecolor": "white",
           "zerolinewidth": 2
          },
          "yaxis": {
           "automargin": true,
           "gridcolor": "white",
           "linecolor": "white",
           "ticks": "",
           "title": {
            "standoff": 15
           },
           "zerolinecolor": "white",
           "zerolinewidth": 2
          }
         }
        },
        "width": 1000
       }
      }
     },
     "metadata": {},
     "output_type": "display_data"
    }
   ],
   "source": [
    "# импортируем DBSCAN-кластеризацию\n",
    "from sklearn.cluster import DBSCAN\n",
    "\n",
    "#запускаем кластеризацию на наших данных\n",
    "dbscan = DBSCAN(eps=11)\n",
    "clustering_dbscan_res = dbscan.fit_predict(X)\n",
    "df['dbscan_res_eps_11'] = clustering_dbscan_res\n",
    "\n",
    "get_3d_visualization(df, 'dbscan_res_eps_11')"
   ]
  },
  {
   "cell_type": "code",
   "execution_count": 12,
   "metadata": {},
   "outputs": [],
   "source": [
    "# импортируем алгомеративную кластеризацию из sklearn\n",
    "from sklearn.cluster import AgglomerativeClustering\n",
    "\n",
    "# напишем функцию, которая будет проводить алгомеративную кластеризацию\n",
    "# на вход она будет принимать X — матрицу с признаками для кластеризации и n_clusters — количество кластеров,\n",
    "# на выходе будет возвращать список с номерами кластеров\n",
    "def get_aggl_clustering(X, n_clusters):\n",
    "    # запустим агломеративную кластеризацию\n",
    "    agglomerative_clustering = AgglomerativeClustering(n_clusters=n_clusters, linkage='ward')\n",
    "    # обучим модель агломеративной кластеризации\n",
    "    agglomerative_clustering.fit(X)\n",
    "    # получим список c информацией, к какому кластеру относятся объекты\n",
    "    aggl_prediction = agglomerative_clustering.labels_\n",
    "    # вернём список с результатами\n",
    "    return aggl_prediction"
   ]
  },
  {
   "cell_type": "code",
   "execution_count": 13,
   "metadata": {},
   "outputs": [
    {
     "data": {
      "image/png": "[encoded data removed]",
      "text/plain": [
       "<Figure size 1000x700 with 1 Axes>"
      ]
     },
     "metadata": {},
     "output_type": "display_data"
    }
   ],
   "source": [
    "# импортируем библиотеку scipy, чтобы визуализировать дендрограмму\n",
    "from scipy.cluster.hierarchy import dendrogram, linkage\n",
    "from matplotlib import pyplot as plt\n",
    "\n",
    "# запускаем агломеративную кластеризацию и сохраним результаты в df\n",
    "df['aggl_res_3'] = get_aggl_clustering(X, 3)\n",
    "\n",
    "linked = linkage(X, 'ward')\n",
    "plt.figure(figsize=(10, 7))\n",
    "\n",
    "dendrogram(linked,\n",
    "            orientation='top',\n",
    "            labels=df['aggl_res_3'].to_list(),\n",
    "            distance_sort='descending',\n",
    "            show_leaf_counts=True)\n",
    "\n",
    "plt.show()"
   ]
  },
  {
   "cell_type": "code",
   "execution_count": 14,
   "metadata": {},
   "outputs": [
    {
     "data": {
      "application/vnd.plotly.v1+json": {
       "config": {
        "plotlyServerURL": "https://plot.ly"
       },
       "data": [
        {
         "hovertemplate": "age=%{x}<br>annual_income=%{y}<br>spending_score=%{z}<br>aggl_res_6=%{marker.color}<extra></extra>",
         "legendgroup": "",
         "marker": {
          "color": [
           4,
           3,
           4,
           3,
           4,
           3,
           4,
           3,
           4,
           3,
           4,
           3,
           4,
           3,
           4,
           3,
           4,
           3,
           4,
           3,
           4,
           3,
           4,
           3,
           4,
           3,
           4,
           5,
           4,
           3,
           4,
           3,
           4,
           3,
           4,
           3,
           4,
           3,
           4,
           3,
           4,
           3,
           4,
           5,
           4,
           5,
           1,
           5,
           5,
           5,
           1,
           5,
           5,
           1,
           1,
           1,
           1,
           1,
           5,
           1,
           1,
           5,
           1,
           1,
           1,
           5,
           1,
           1,
           5,
           5,
           1,
           1,
           1,
           1,
           1,
           5,
           1,
           1,
           5,
           1,
           1,
           1,
           1,
           1,
           5,
           1,
           1,
           5,
           1,
           1,
           1,
           5,
           1,
           1,
           1,
           5,
           1,
           5,
           1,
           5,
           5,
           1,
           1,
           5,
           1,
           5,
           1,
           1,
           1,
           1,
           1,
           5,
           1,
           5,
           5,
           5,
           1,
           1,
           1,
           1,
           5,
           1,
           1,
           2,
           5,
           2,
           0,
           2,
           0,
           2,
           0,
           2,
           5,
           2,
           0,
           2,
           0,
           2,
           0,
           2,
           0,
           2,
           5,
           2,
           0,
           2,
           0,
           2,
           0,
           2,
           0,
           2,
           0,
           2,
           0,
           2,
           0,
           2,
           0,
           2,
           0,
           2,
           0,
           2,
           0,
           2,
           0,
           2,
           0,
           2,
           0,
           2,
           0,
           2,
           0,
           2,
           0,
           2,
           0,
           2,
           0,
           2,
           0,
           2,
           0,
           2,
           0,
           2,
           0,
           2,
           0,
           2,
           0,
           2,
           0,
           2,
           0,
           2,
           0,
           2
          ],
          "coloraxis": "coloraxis",
          "symbol": "circle"
         },
         "mode": "markers",
         "name": "",
         "scene": "scene",
         "showlegend": false,
         "type": "scatter3d",
         "x": [
          19,
          21,
          20,
          23,
          31,
          22,
          35,
          23,
          64,
          30,
          67,
          35,
          58,
          24,
          37,
          22,
          35,
          20,
          52,
          35,
          35,
          25,
          46,
          31,
          54,
          29,
          45,
          35,
          40,
          23,
          60,
          21,
          53,
          18,
          49,
          21,
          42,
          30,
          36,
          20,
          65,
          24,
          48,
          31,
          49,
          24,
          50,
          27,
          29,
          31,
          49,
          33,
          31,
          59,
          50,
          47,
          51,
          69,
          27,
          53,
          70,
          19,
          67,
          54,
          63,
          18,
          43,
          68,
          19,
          32,
          70,
          47,
          60,
          60,
          59,
          26,
          45,
          40,
          23,
          49,
          57,
          38,
          67,
          46,
          21,
          48,
          55,
          22,
          34,
          50,
          68,
          18,
          48,
          40,
          32,
          24,
          47,
          27,
          48,
          20,
          23,
          49,
          67,
          26,
          49,
          21,
          66,
          54,
          68,
          66,
          65,
          19,
          38,
          19,
          18,
          19,
          63,
          49,
          51,
          50,
          27,
          38,
          40,
          39,
          23,
          31,
          43,
          40,
          59,
          38,
          47,
          39,
          25,
          31,
          20,
          29,
          44,
          32,
          19,
          35,
          57,
          32,
          28,
          32,
          25,
          28,
          48,
          32,
          34,
          34,
          43,
          39,
          44,
          38,
          47,
          27,
          37,
          30,
          34,
          30,
          56,
          29,
          19,
          31,
          50,
          36,
          42,
          33,
          36,
          32,
          40,
          28,
          36,
          36,
          52,
          30,
          58,
          27,
          59,
          35,
          37,
          32,
          46,
          29,
          41,
          30,
          54,
          28,
          41,
          36,
          34,
          32,
          33,
          38,
          47,
          35,
          45,
          32,
          32,
          30
         ],
         "y": [
          15,
          15,
          16,
          16,
          17,
          17,
          18,
          18,
          19,
          19,
          19,
          19,
          20,
          20,
          20,
          20,
          21,
          21,
          23,
          23,
          24,
          24,
          25,
          25,
          28,
          28,
          28,
          28,
          29,
          29,
          30,
          30,
          33,
          33,
          33,
          33,
          34,
          34,
          37,
          37,
          38,
          38,
          39,
          39,
          39,
          39,
          40,
          40,
          40,
          40,
          42,
          42,
          43,
          43,
          43,
          43,
          44,
          44,
          46,
          46,
          46,
          46,
          47,
          47,
          48,
          48,
          48,
          48,
          48,
          48,
          49,
          49,
          50,
          50,
          54,
          54,
          54,
          54,
          54,
          54,
          54,
          54,
          54,
          54,
          54,
          54,
          57,
          57,
          58,
          58,
          59,
          59,
          60,
          60,
          60,
          60,
          60,
          60,
          61,
          61,
          62,
          62,
          62,
          62,
          62,
          62,
          63,
          63,
          63,
          63,
          63,
          63,
          64,
          64,
          65,
          65,
          65,
          65,
          67,
          67,
          67,
          67,
          69,
          69,
          70,
          70,
          71,
          71,
          71,
          71,
          71,
          71,
          72,
          72,
          73,
          73,
          73,
          73,
          74,
          74,
          75,
          75,
          76,
          76,
          77,
          77,
          77,
          77,
          78,
          78,
          78,
          78,
          78,
          78,
          78,
          78,
          78,
          78,
          78,
          78,
          79,
          79,
          81,
          81,
          85,
          85,
          86,
          86,
          87,
          87,
          87,
          87,
          87,
          87,
          88,
          88,
          88,
          88,
          93,
          93,
          97,
          97,
          98,
          98,
          99,
          99,
          101,
          101,
          103,
          103,
          103,
          103,
          113,
          113,
          120,
          120,
          126,
          126,
          137,
          137
         ],
         "z": [
          39,
          81,
          6,
          77,
          40,
          76,
          6,
          94,
          3,
          72,
          14,
          99,
          15,
          77,
          13,
          79,
          35,
          66,
          29,
          98,
          35,
          73,
          5,
          73,
          14,
          82,
          32,
          61,
          31,
          87,
          4,
          73,
          4,
          92,
          14,
          81,
          17,
          73,
          26,
          75,
          35,
          92,
          36,
          61,
          28,
          65,
          55,
          47,
          42,
          42,
          52,
          60,
          54,
          60,
          45,
          41,
          50,
          46,
          51,
          46,
          56,
          55,
          52,
          59,
          51,
          59,
          50,
          48,
          59,
          47,
          55,
          42,
          49,
          56,
          47,
          54,
          53,
          48,
          52,
          42,
          51,
          55,
          41,
          44,
          57,
          46,
          58,
          55,
          60,
          46,
          55,
          41,
          49,
          40,
          42,
          52,
          47,
          50,
          42,
          49,
          41,
          48,
          59,
          55,
          56,
          42,
          50,
          46,
          43,
          48,
          52,
          54,
          42,
          46,
          48,
          50,
          43,
          59,
          43,
          57,
          56,
          40,
          58,
          91,
          29,
          77,
          35,
          95,
          11,
          75,
          9,
          75,
          34,
          71,
          5,
          88,
          7,
          73,
          10,
          72,
          5,
          93,
          40,
          87,
          12,
          97,
          36,
          74,
          22,
          90,
          17,
          88,
          20,
          76,
          16,
          89,
          1,
          78,
          1,
          73,
          35,
          83,
          5,
          93,
          26,
          75,
          20,
          95,
          27,
          63,
          13,
          75,
          10,
          92,
          13,
          86,
          15,
          69,
          14,
          90,
          32,
          86,
          15,
          88,
          39,
          97,
          24,
          68,
          17,
          85,
          23,
          69,
          8,
          91,
          16,
          79,
          28,
          74,
          18,
          83
         ]
        }
       ],
       "layout": {
        "coloraxis": {
         "colorbar": {
          "title": {
           "text": "aggl_res_6"
          }
         },
         "colorscale": [
          [
           0,
           "#0d0887"
          ],
          [
           0.1111111111111111,
           "#46039f"
          ],
          [
           0.2222222222222222,
           "#7201a8"
          ],
          [
           0.3333333333333333,
           "#9c179e"
          ],
          [
           0.4444444444444444,
           "#bd3786"
          ],
          [
           0.5555555555555556,
           "#d8576b"
          ],
          [
           0.6666666666666666,
           "#ed7953"
          ],
          [
           0.7777777777777778,
           "#fb9f3a"
          ],
          [
           0.8888888888888888,
           "#fdca26"
          ],
          [
           1,
           "#f0f921"
          ]
         ]
        },
        "height": 700,
        "legend": {
         "tracegroupgap": 0
        },
        "margin": {
         "t": 60
        },
        "scene": {
         "domain": {
          "x": [
           0,
           1
          ],
          "y": [
           0,
           1
          ]
         },
         "xaxis": {
          "title": {
           "text": "age"
          }
         },
         "yaxis": {
          "title": {
           "text": "annual_income"
          }
         },
         "zaxis": {
          "title": {
           "text": "spending_score"
          }
         }
        },
        "template": {
         "data": {
          "bar": [
           {
            "error_x": {
             "color": "#2a3f5f"
            },
            "error_y": {
             "color": "#2a3f5f"
            },
            "marker": {
             "line": {
              "color": "#E5ECF6",
              "width": 0.5
             },
             "pattern": {
              "fillmode": "overlay",
              "size": 10,
              "solidity": 0.2
             }
            },
            "type": "bar"
           }
          ],
          "barpolar": [
           {
            "marker": {
             "line": {
              "color": "#E5ECF6",
              "width": 0.5
             },
             "pattern": {
              "fillmode": "overlay",
              "size": 10,
              "solidity": 0.2
             }
            },
            "type": "barpolar"
           }
          ],
          "carpet": [
           {
            "aaxis": {
             "endlinecolor": "#2a3f5f",
             "gridcolor": "white",
             "linecolor": "white",
             "minorgridcolor": "white",
             "startlinecolor": "#2a3f5f"
            },
            "baxis": {
             "endlinecolor": "#2a3f5f",
             "gridcolor": "white",
             "linecolor": "white",
             "minorgridcolor": "white",
             "startlinecolor": "#2a3f5f"
            },
            "type": "carpet"
           }
          ],
          "choropleth": [
           {
            "colorbar": {
             "outlinewidth": 0,
             "ticks": ""
            },
            "type": "choropleth"
           }
          ],
          "contour": [
           {
            "colorbar": {
             "outlinewidth": 0,
             "ticks": ""
            },
            "colorscale": [
             [
              0,
              "#0d0887"
             ],
             [
              0.1111111111111111,
              "#46039f"
             ],
             [
              0.2222222222222222,
              "#7201a8"
             ],
             [
              0.3333333333333333,
              "#9c179e"
             ],
             [
              0.4444444444444444,
              "#bd3786"
             ],
             [
              0.5555555555555556,
              "#d8576b"
             ],
             [
              0.6666666666666666,
              "#ed7953"
             ],
             [
              0.7777777777777778,
              "#fb9f3a"
             ],
             [
              0.8888888888888888,
              "#fdca26"
             ],
             [
              1,
              "#f0f921"
             ]
            ],
            "type": "contour"
           }
          ],
          "contourcarpet": [
           {
            "colorbar": {
             "outlinewidth": 0,
             "ticks": ""
            },
            "type": "contourcarpet"
           }
          ],
          "heatmap": [
           {
            "colorbar": {
             "outlinewidth": 0,
             "ticks": ""
            },
            "colorscale": [
             [
              0,
              "#0d0887"
             ],
             [
              0.1111111111111111,
              "#46039f"
             ],
             [
              0.2222222222222222,
              "#7201a8"
             ],
             [
              0.3333333333333333,
              "#9c179e"
             ],
             [
              0.4444444444444444,
              "#bd3786"
             ],
             [
              0.5555555555555556,
              "#d8576b"
             ],
             [
              0.6666666666666666,
              "#ed7953"
             ],
             [
              0.7777777777777778,
              "#fb9f3a"
             ],
             [
              0.8888888888888888,
              "#fdca26"
             ],
             [
              1,
              "#f0f921"
             ]
            ],
            "type": "heatmap"
           }
          ],
          "heatmapgl": [
           {
            "colorbar": {
             "outlinewidth": 0,
             "ticks": ""
            },
            "colorscale": [
             [
              0,
              "#0d0887"
             ],
             [
              0.1111111111111111,
              "#46039f"
             ],
             [
              0.2222222222222222,
              "#7201a8"
             ],
             [
              0.3333333333333333,
              "#9c179e"
             ],
             [
              0.4444444444444444,
              "#bd3786"
             ],
             [
              0.5555555555555556,
              "#d8576b"
             ],
             [
              0.6666666666666666,
              "#ed7953"
             ],
             [
              0.7777777777777778,
              "#fb9f3a"
             ],
             [
              0.8888888888888888,
              "#fdca26"
             ],
             [
              1,
              "#f0f921"
             ]
            ],
            "type": "heatmapgl"
           }
          ],
          "histogram": [
           {
            "marker": {
             "pattern": {
              "fillmode": "overlay",
              "size": 10,
              "solidity": 0.2
             }
            },
            "type": "histogram"
           }
          ],
          "histogram2d": [
           {
            "colorbar": {
             "outlinewidth": 0,
             "ticks": ""
            },
            "colorscale": [
             [
              0,
              "#0d0887"
             ],
             [
              0.1111111111111111,
              "#46039f"
             ],
             [
              0.2222222222222222,
              "#7201a8"
             ],
             [
              0.3333333333333333,
              "#9c179e"
             ],
             [
              0.4444444444444444,
              "#bd3786"
             ],
             [
              0.5555555555555556,
              "#d8576b"
             ],
             [
              0.6666666666666666,
              "#ed7953"
             ],
             [
              0.7777777777777778,
              "#fb9f3a"
             ],
             [
              0.8888888888888888,
              "#fdca26"
             ],
             [
              1,
              "#f0f921"
             ]
            ],
            "type": "histogram2d"
           }
          ],
          "histogram2dcontour": [
           {
            "colorbar": {
             "outlinewidth": 0,
             "ticks": ""
            },
            "colorscale": [
             [
              0,
              "#0d0887"
             ],
             [
              0.1111111111111111,
              "#46039f"
             ],
             [
              0.2222222222222222,
              "#7201a8"
             ],
             [
              0.3333333333333333,
              "#9c179e"
             ],
             [
              0.4444444444444444,
              "#bd3786"
             ],
             [
              0.5555555555555556,
              "#d8576b"
             ],
             [
              0.6666666666666666,
              "#ed7953"
             ],
             [
              0.7777777777777778,
              "#fb9f3a"
             ],
             [
              0.8888888888888888,
              "#fdca26"
             ],
             [
              1,
              "#f0f921"
             ]
            ],
            "type": "histogram2dcontour"
           }
          ],
          "mesh3d": [
           {
            "colorbar": {
             "outlinewidth": 0,
             "ticks": ""
            },
            "type": "mesh3d"
           }
          ],
          "parcoords": [
           {
            "line": {
             "colorbar": {
              "outlinewidth": 0,
              "ticks": ""
             }
            },
            "type": "parcoords"
           }
          ],
          "pie": [
           {
            "automargin": true,
            "type": "pie"
           }
          ],
          "scatter": [
           {
            "fillpattern": {
             "fillmode": "overlay",
             "size": 10,
             "solidity": 0.2
            },
            "type": "scatter"
           }
          ],
          "scatter3d": [
           {
            "line": {
             "colorbar": {
              "outlinewidth": 0,
              "ticks": ""
             }
            },
            "marker": {
             "colorbar": {
              "outlinewidth": 0,
              "ticks": ""
             }
            },
            "type": "scatter3d"
           }
          ],
          "scattercarpet": [
           {
            "marker": {
             "colorbar": {
              "outlinewidth": 0,
              "ticks": ""
             }
            },
            "type": "scattercarpet"
           }
          ],
          "scattergeo": [
           {
            "marker": {
             "colorbar": {
              "outlinewidth": 0,
              "ticks": ""
             }
            },
            "type": "scattergeo"
           }
          ],
          "scattergl": [
           {
            "marker": {
             "colorbar": {
              "outlinewidth": 0,
              "ticks": ""
             }
            },
            "type": "scattergl"
           }
          ],
          "scattermapbox": [
           {
            "marker": {
             "colorbar": {
              "outlinewidth": 0,
              "ticks": ""
             }
            },
            "type": "scattermapbox"
           }
          ],
          "scatterpolar": [
           {
            "marker": {
             "colorbar": {
              "outlinewidth": 0,
              "ticks": ""
             }
            },
            "type": "scatterpolar"
           }
          ],
          "scatterpolargl": [
           {
            "marker": {
             "colorbar": {
              "outlinewidth": 0,
              "ticks": ""
             }
            },
            "type": "scatterpolargl"
           }
          ],
          "scatterternary": [
           {
            "marker": {
             "colorbar": {
              "outlinewidth": 0,
              "ticks": ""
             }
            },
            "type": "scatterternary"
           }
          ],
          "surface": [
           {
            "colorbar": {
             "outlinewidth": 0,
             "ticks": ""
            },
            "colorscale": [
             [
              0,
              "#0d0887"
             ],
             [
              0.1111111111111111,
              "#46039f"
             ],
             [
              0.2222222222222222,
              "#7201a8"
             ],
             [
              0.3333333333333333,
              "#9c179e"
             ],
             [
              0.4444444444444444,
              "#bd3786"
             ],
             [
              0.5555555555555556,
              "#d8576b"
             ],
             [
              0.6666666666666666,
              "#ed7953"
             ],
             [
              0.7777777777777778,
              "#fb9f3a"
             ],
             [
              0.8888888888888888,
              "#fdca26"
             ],
             [
              1,
              "#f0f921"
             ]
            ],
            "type": "surface"
           }
          ],
          "table": [
           {
            "cells": {
             "fill": {
              "color": "#EBF0F8"
             },
             "line": {
              "color": "white"
             }
            },
            "header": {
             "fill": {
              "color": "#C8D4E3"
             },
             "line": {
              "color": "white"
             }
            },
            "type": "table"
           }
          ]
         },
         "layout": {
          "annotationdefaults": {
           "arrowcolor": "#2a3f5f",
           "arrowhead": 0,
           "arrowwidth": 1
          },
          "autotypenumbers": "strict",
          "coloraxis": {
           "colorbar": {
            "outlinewidth": 0,
            "ticks": ""
           }
          },
          "colorscale": {
           "diverging": [
            [
             0,
             "#8e0152"
            ],
            [
             0.1,
             "#c51b7d"
            ],
            [
             0.2,
             "#de77ae"
            ],
            [
             0.3,
             "#f1b6da"
            ],
            [
             0.4,
             "#fde0ef"
            ],
            [
             0.5,
             "#f7f7f7"
            ],
            [
             0.6,
             "#e6f5d0"
            ],
            [
             0.7,
             "#b8e186"
            ],
            [
             0.8,
             "#7fbc41"
            ],
            [
             0.9,
             "#4d9221"
            ],
            [
             1,
             "#276419"
            ]
           ],
           "sequential": [
            [
             0,
             "#0d0887"
            ],
            [
             0.1111111111111111,
             "#46039f"
            ],
            [
             0.2222222222222222,
             "#7201a8"
            ],
            [
             0.3333333333333333,
             "#9c179e"
            ],
            [
             0.4444444444444444,
             "#bd3786"
            ],
            [
             0.5555555555555556,
             "#d8576b"
            ],
            [
             0.6666666666666666,
             "#ed7953"
            ],
            [
             0.7777777777777778,
             "#fb9f3a"
            ],
            [
             0.8888888888888888,
             "#fdca26"
            ],
            [
             1,
             "#f0f921"
            ]
           ],
           "sequentialminus": [
            [
             0,
             "#0d0887"
            ],
            [
             0.1111111111111111,
             "#46039f"
            ],
            [
             0.2222222222222222,
             "#7201a8"
            ],
            [
             0.3333333333333333,
             "#9c179e"
            ],
            [
             0.4444444444444444,
             "#bd3786"
            ],
            [
             0.5555555555555556,
             "#d8576b"
            ],
            [
             0.6666666666666666,
             "#ed7953"
            ],
            [
             0.7777777777777778,
             "#fb9f3a"
            ],
            [
             0.8888888888888888,
             "#fdca26"
            ],
            [
             1,
             "#f0f921"
            ]
           ]
          },
          "colorway": [
           "#636efa",
           "#EF553B",
           "#00cc96",
           "#ab63fa",
           "#FFA15A",
           "#19d3f3",
           "#FF6692",
           "#B6E880",
           "#FF97FF",
           "#FECB52"
          ],
          "font": {
           "color": "#2a3f5f"
          },
          "geo": {
           "bgcolor": "white",
           "lakecolor": "white",
           "landcolor": "#E5ECF6",
           "showlakes": true,
           "showland": true,
           "subunitcolor": "white"
          },
          "hoverlabel": {
           "align": "left"
          },
          "hovermode": "closest",
          "mapbox": {
           "style": "light"
          },
          "paper_bgcolor": "white",
          "plot_bgcolor": "#E5ECF6",
          "polar": {
           "angularaxis": {
            "gridcolor": "white",
            "linecolor": "white",
            "ticks": ""
           },
           "bgcolor": "#E5ECF6",
           "radialaxis": {
            "gridcolor": "white",
            "linecolor": "white",
            "ticks": ""
           }
          },
          "scene": {
           "xaxis": {
            "backgroundcolor": "#E5ECF6",
            "gridcolor": "white",
            "gridwidth": 2,
            "linecolor": "white",
            "showbackground": true,
            "ticks": "",
            "zerolinecolor": "white"
           },
           "yaxis": {
            "backgroundcolor": "#E5ECF6",
            "gridcolor": "white",
            "gridwidth": 2,
            "linecolor": "white",
            "showbackground": true,
            "ticks": "",
            "zerolinecolor": "white"
           },
           "zaxis": {
            "backgroundcolor": "#E5ECF6",
            "gridcolor": "white",
            "gridwidth": 2,
            "linecolor": "white",
            "showbackground": true,
            "ticks": "",
            "zerolinecolor": "white"
           }
          },
          "shapedefaults": {
           "line": {
            "color": "#2a3f5f"
           }
          },
          "ternary": {
           "aaxis": {
            "gridcolor": "white",
            "linecolor": "white",
            "ticks": ""
           },
           "baxis": {
            "gridcolor": "white",
            "linecolor": "white",
            "ticks": ""
           },
           "bgcolor": "#E5ECF6",
           "caxis": {
            "gridcolor": "white",
            "linecolor": "white",
            "ticks": ""
           }
          },
          "title": {
           "x": 0.05
          },
          "xaxis": {
           "automargin": true,
           "gridcolor": "white",
           "linecolor": "white",
           "ticks": "",
           "title": {
            "standoff": 15
           },
           "zerolinecolor": "white",
           "zerolinewidth": 2
          },
          "yaxis": {
           "automargin": true,
           "gridcolor": "white",
           "linecolor": "white",
           "ticks": "",
           "title": {
            "standoff": 15
           },
           "zerolinecolor": "white",
           "zerolinewidth": 2
          }
         }
        },
        "width": 1000
       }
      }
     },
     "metadata": {},
     "output_type": "display_data"
    }
   ],
   "source": [
    "df['aggl_res_6'] = get_aggl_clustering(df[['age', 'annual_income', 'spending_score']], 6)\n",
    "get_3d_visualization(df, 'aggl_res_6')"
   ]
  },
  {
   "cell_type": "code",
   "execution_count": 21,
   "metadata": {},
   "outputs": [
    {
     "data": {
      "text/plain": [
       "<AxesSubplot: xlabel='cluster', ylabel='silhouette'>"
      ]
     },
     "execution_count": 21,
     "metadata": {},
     "output_type": "execute_result"
    },
    {
     "data": {
      "image/png": "[encoded data removed]",
      "text/plain": [
       "<Figure size 640x480 with 1 Axes>"
      ]
     },
     "metadata": {},
     "output_type": "display_data"
    }
   ],
   "source": [
    "from sklearn.metrics import silhouette_score\n",
    "import seaborn as sns\n",
    "\n",
    "# напишем функцию для подсчёта коэффициента силуэта\n",
    "def get_silhouette_agg_clust(X, cluster_num):\n",
    "    # проведём агломеративную кластеризацию с заданным количеством кластеров\n",
    "    res = get_aggl_clustering(X, cluster_num)\n",
    "    # рассчитаем коэффициент силуэта\n",
    "    silhouette = silhouette_score(X, res)\n",
    "    return silhouette\n",
    "\n",
    "\n",
    "# создадим пустой словарь, ключами будут коэффициент силуэта и количество кластеров\n",
    "silhouette_res = {\"silhouette\": [], \"cluster\": []}\n",
    "\n",
    "\n",
    "for cluster_num in range(2, 10):\n",
    "    silhouette_res[\"silhouette\"].append(get_silhouette_agg_clust(X, cluster_num))\n",
    "    silhouette_res[\"cluster\"].append(cluster_num)\n",
    "\n",
    "# сохраним в датафрейм значение силуэта и количество кластеров\n",
    "silhouette_df = pd.DataFrame(silhouette_res)\n",
    "\n",
    "# установим стиль для визуализиции\n",
    "sns.set_style(\"darkgrid\")\n",
    "# визуализируем зависимость значения инерции от количества кластеров\n",
    "sns.lineplot(data=silhouette_df, x=\"cluster\", y=\"silhouette\", marker=\"o\")"
   ]
  },
  {
   "cell_type": "code",
   "execution_count": 22,
   "metadata": {},
   "outputs": [
    {
     "name": "stdout",
     "output_type": "stream",
     "text": [
      "0.9012847747610448\n"
     ]
    }
   ],
   "source": [
    "from sklearn.metrics.cluster import completeness_score\n",
    "\n",
    "print(completeness_score(labels_true=df.cluster, labels_pred=df.aggl_res_6))\n",
    "# 0.9012847747610448"
   ]
  }
 ],
 "metadata": {
  "kernelspec": {
   "display_name": "Python 3",
   "language": "python",
   "name": "python3"
  },
  "language_info": {
   "codemirror_mode": {
    "name": "ipython",
    "version": 3
   },
   "file_extension": ".py",
   "mimetype": "text/x-python",
   "name": "python",
   "nbconvert_exporter": "python",
   "pygments_lexer": "ipython3",
   "version": "3.9.10"
  },
  "orig_nbformat": 4
 },
 "nbformat": 4,
 "nbformat_minor": 2
}
