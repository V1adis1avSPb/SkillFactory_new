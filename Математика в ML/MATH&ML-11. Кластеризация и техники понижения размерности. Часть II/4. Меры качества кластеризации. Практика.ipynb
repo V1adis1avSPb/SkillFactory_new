{
 "cells": [
  {
   "cell_type": "code",
   "execution_count": 44,
   "metadata": {},
   "outputs": [],
   "source": [
    "import pandas as pd\n",
    "import numpy as np\n",
    "from sklearn import metrics\n",
    "from sklearn import cluster\n",
    "from sklearn import preprocessing\n",
    "from sklearn import model_selection\n",
    "\n",
    "import warnings\n",
    "warnings.filterwarnings(\"ignore\")"
   ]
  },
  {
   "cell_type": "code",
   "execution_count": 24,
   "metadata": {},
   "outputs": [
    {
     "name": "stdout",
     "output_type": "stream",
     "text": [
      "<class 'pandas.core.frame.DataFrame'>\n",
      "RangeIndex: 7352 entries, 0 to 7351\n",
      "Columns: 561 entries, 0 to 560\n",
      "dtypes: float64(561)\n",
      "memory usage: 31.5 MB\n"
     ]
    }
   ],
   "source": [
    "df_x_train = pd.read_csv('data/train.txt',sep='\\s+', header=None)\n",
    "df_x_train.info()"
   ]
  },
  {
   "cell_type": "code",
   "execution_count": 25,
   "metadata": {},
   "outputs": [
    {
     "name": "stdout",
     "output_type": "stream",
     "text": [
      "<class 'pandas.core.frame.DataFrame'>\n",
      "RangeIndex: 2947 entries, 0 to 2946\n",
      "Columns: 561 entries, 0 to 560\n",
      "dtypes: float64(561)\n",
      "memory usage: 12.6 MB\n"
     ]
    }
   ],
   "source": [
    "df_x_test = pd.read_csv('data/test.txt',sep='\\s+', header=None)\n",
    "df_x_test.info()"
   ]
  },
  {
   "cell_type": "code",
   "execution_count": 26,
   "metadata": {},
   "outputs": [
    {
     "name": "stdout",
     "output_type": "stream",
     "text": [
      "<class 'pandas.core.frame.DataFrame'>\n",
      "RangeIndex: 7352 entries, 0 to 7351\n",
      "Data columns (total 1 columns):\n",
      " #   Column  Non-Null Count  Dtype\n",
      "---  ------  --------------  -----\n",
      " 0   0       7352 non-null   int64\n",
      "dtypes: int64(1)\n",
      "memory usage: 57.6 KB\n"
     ]
    }
   ],
   "source": [
    "df_y_train = pd.read_csv('data/train_labels.txt',sep='\\s+', header=None)\n",
    "df_y_train.info()"
   ]
  },
  {
   "cell_type": "code",
   "execution_count": 27,
   "metadata": {},
   "outputs": [
    {
     "name": "stdout",
     "output_type": "stream",
     "text": [
      "<class 'pandas.core.frame.DataFrame'>\n",
      "RangeIndex: 2947 entries, 0 to 2946\n",
      "Data columns (total 1 columns):\n",
      " #   Column  Non-Null Count  Dtype\n",
      "---  ------  --------------  -----\n",
      " 0   0       2947 non-null   int64\n",
      "dtypes: int64(1)\n",
      "memory usage: 23.1 KB\n"
     ]
    }
   ],
   "source": [
    "df_y_test = pd.read_csv('data/test_labels.txt',sep='\\s+', header=None)\n",
    "df_y_test.info()"
   ]
  },
  {
   "cell_type": "code",
   "execution_count": 28,
   "metadata": {},
   "outputs": [
    {
     "name": "stdout",
     "output_type": "stream",
     "text": [
      "<class 'pandas.core.frame.DataFrame'>\n",
      "Int64Index: 10299 entries, 0 to 2946\n",
      "Columns: 561 entries, 0 to 560\n",
      "dtypes: float64(561)\n",
      "memory usage: 44.2 MB\n",
      "None\n",
      "<class 'pandas.core.frame.DataFrame'>\n",
      "Int64Index: 10299 entries, 0 to 2946\n",
      "Data columns (total 1 columns):\n",
      " #   Column  Non-Null Count  Dtype\n",
      "---  ------  --------------  -----\n",
      " 0   0       10299 non-null  int64\n",
      "dtypes: int64(1)\n",
      "memory usage: 160.9 KB\n",
      "None\n"
     ]
    },
    {
     "name": "stderr",
     "output_type": "stream",
     "text": [
      "/var/folders/0v/d10yh6tj1mn387jzy55lmxv80000gn/T/ipykernel_2091/3198137018.py:1: FutureWarning: The frame.append method is deprecated and will be removed from pandas in a future version. Use pandas.concat instead.\n",
      "  df_X = df_x_train.append(df_x_test)\n",
      "/var/folders/0v/d10yh6tj1mn387jzy55lmxv80000gn/T/ipykernel_2091/3198137018.py:2: FutureWarning: The frame.append method is deprecated and will be removed from pandas in a future version. Use pandas.concat instead.\n",
      "  df_y = df_y_train.append(df_y_test)\n"
     ]
    }
   ],
   "source": [
    "df_X = df_x_train.append(df_x_test)\n",
    "df_y = df_y_train.append(df_y_test)\n",
    "print(df_X.info())\n",
    "print(df_y.info())"
   ]
  },
  {
   "cell_type": "code",
   "execution_count": 29,
   "metadata": {},
   "outputs": [
    {
     "data": {
      "text/plain": [
       "6    1944\n",
       "5    1906\n",
       "4    1777\n",
       "1    1722\n",
       "2    1544\n",
       "3    1406\n",
       "dtype: int64"
      ]
     },
     "execution_count": 29,
     "metadata": {},
     "output_type": "execute_result"
    }
   ],
   "source": [
    "df_y.value_counts()"
   ]
  },
  {
   "cell_type": "code",
   "execution_count": 31,
   "metadata": {},
   "outputs": [],
   "source": [
    "scaler = preprocessing.StandardScaler()\n",
    "X_norm = scaler.fit_transform(df_X)"
   ]
  },
  {
   "cell_type": "code",
   "execution_count": 32,
   "metadata": {},
   "outputs": [
    {
     "data": {
      "text/plain": [
       "0.21"
      ]
     },
     "execution_count": 32,
     "metadata": {},
     "output_type": "execute_result"
    }
   ],
   "source": [
    "round(X_norm[0][0],2)"
   ]
  },
  {
   "cell_type": "code",
   "execution_count": 35,
   "metadata": {},
   "outputs": [
    {
     "data": {
      "text/html": [
       "<div>\n",
       "<style scoped>\n",
       "    .dataframe tbody tr th:only-of-type {\n",
       "        vertical-align: middle;\n",
       "    }\n",
       "\n",
       "    .dataframe tbody tr th {\n",
       "        vertical-align: top;\n",
       "    }\n",
       "\n",
       "    .dataframe thead th {\n",
       "        text-align: right;\n",
       "    }\n",
       "</style>\n",
       "<table border=\"1\" class=\"dataframe\">\n",
       "  <thead>\n",
       "    <tr style=\"text-align: right;\">\n",
       "      <th></th>\n",
       "      <th>sil</th>\n",
       "      <th>k_h</th>\n",
       "      <th>d_b</th>\n",
       "    </tr>\n",
       "  </thead>\n",
       "  <tbody>\n",
       "  </tbody>\n",
       "</table>\n",
       "</div>"
      ],
      "text/plain": [
       "Empty DataFrame\n",
       "Columns: [sil, k_h, d_b]\n",
       "Index: []"
      ]
     },
     "execution_count": 35,
     "metadata": {},
     "output_type": "execute_result"
    }
   ],
   "source": [
    "#df_metrics = pd.DataFrame(columns=['sil', 'k_h', 'd_b'])\n",
    "#df_metrics = pd.DataFrame(columns=['sil', 'k_h', 'd_b'], index=range(2,10))\n",
    "#df_metrics"
   ]
  },
  {
   "cell_type": "code",
   "execution_count": 47,
   "metadata": {},
   "outputs": [
    {
     "data": {
      "text/html": [
       "<div>\n",
       "<style scoped>\n",
       "    .dataframe tbody tr th:only-of-type {\n",
       "        vertical-align: middle;\n",
       "    }\n",
       "\n",
       "    .dataframe tbody tr th {\n",
       "        vertical-align: top;\n",
       "    }\n",
       "\n",
       "    .dataframe thead th {\n",
       "        text-align: right;\n",
       "    }\n",
       "</style>\n",
       "<table border=\"1\" class=\"dataframe\">\n",
       "  <thead>\n",
       "    <tr style=\"text-align: right;\">\n",
       "      <th></th>\n",
       "      <th>clusters</th>\n",
       "      <th>sil</th>\n",
       "      <th>k_h</th>\n",
       "      <th>d_b</th>\n",
       "    </tr>\n",
       "  </thead>\n",
       "  <tbody>\n",
       "    <tr>\n",
       "      <th>0</th>\n",
       "      <td>2.0</td>\n",
       "      <td>0.393732</td>\n",
       "      <td>7880.813904</td>\n",
       "      <td>1.070744</td>\n",
       "    </tr>\n",
       "    <tr>\n",
       "      <th>1</th>\n",
       "      <td>3.0</td>\n",
       "      <td>0.315484</td>\n",
       "      <td>5034.475257</td>\n",
       "      <td>1.786516</td>\n",
       "    </tr>\n",
       "    <tr>\n",
       "      <th>2</th>\n",
       "      <td>4.0</td>\n",
       "      <td>0.150529</td>\n",
       "      <td>3696.338198</td>\n",
       "      <td>2.340930</td>\n",
       "    </tr>\n",
       "    <tr>\n",
       "      <th>3</th>\n",
       "      <td>5.0</td>\n",
       "      <td>0.127237</td>\n",
       "      <td>3027.076172</td>\n",
       "      <td>2.431375</td>\n",
       "    </tr>\n",
       "    <tr>\n",
       "      <th>4</th>\n",
       "      <td>6.0</td>\n",
       "      <td>0.110969</td>\n",
       "      <td>2556.773574</td>\n",
       "      <td>2.367036</td>\n",
       "    </tr>\n",
       "    <tr>\n",
       "      <th>5</th>\n",
       "      <td>7.0</td>\n",
       "      <td>0.085419</td>\n",
       "      <td>2216.563937</td>\n",
       "      <td>2.681980</td>\n",
       "    </tr>\n",
       "    <tr>\n",
       "      <th>6</th>\n",
       "      <td>8.0</td>\n",
       "      <td>0.076183</td>\n",
       "      <td>1974.971496</td>\n",
       "      <td>2.611226</td>\n",
       "    </tr>\n",
       "    <tr>\n",
       "      <th>7</th>\n",
       "      <td>9.0</td>\n",
       "      <td>0.076488</td>\n",
       "      <td>1790.953173</td>\n",
       "      <td>2.581888</td>\n",
       "    </tr>\n",
       "  </tbody>\n",
       "</table>\n",
       "</div>"
      ],
      "text/plain": [
       "   clusters       sil          k_h       d_b\n",
       "0       2.0  0.393732  7880.813904  1.070744\n",
       "1       3.0  0.315484  5034.475257  1.786516\n",
       "2       4.0  0.150529  3696.338198  2.340930\n",
       "3       5.0  0.127237  3027.076172  2.431375\n",
       "4       6.0  0.110969  2556.773574  2.367036\n",
       "5       7.0  0.085419  2216.563937  2.681980\n",
       "6       8.0  0.076183  1974.971496  2.611226\n",
       "7       9.0  0.076488  1790.953173  2.581888"
      ]
     },
     "execution_count": 47,
     "metadata": {},
     "output_type": "execute_result"
    }
   ],
   "source": [
    "df_metrics = pd.DataFrame(columns=['clusters', 'sil', 'k_h', 'd_b'])\n",
    "for i in range(2,10):\n",
    "    k_m = cluster.KMeans(n_clusters=i, random_state=42)\n",
    "    k_m.fit(X_norm)\n",
    "    sil = metrics.silhouette_score(X_norm, k_m.labels_)\n",
    "    k_h = metrics.calinski_harabasz_score(X_norm, k_m.labels_)\n",
    "    d_b = metrics.davies_bouldin_score(X_norm, k_m.labels_)\n",
    "    df_metrics = df_metrics.append({'clusters': i,\n",
    "                       'sil': sil, \n",
    "                       'k_h': k_h, \n",
    "                       'd_b': d_b},\n",
    "                      ignore_index=True)\n",
    "    \n",
    "df_metrics"
   ]
  },
  {
   "cell_type": "code",
   "execution_count": 53,
   "metadata": {},
   "outputs": [
    {
     "data": {
      "text/plain": [
       "<AxesSubplot: xlabel='clusters'>"
      ]
     },
     "execution_count": 53,
     "metadata": {},
     "output_type": "execute_result"
    },
    {
     "data": {
      "image/png": "[encoded data removed]",
      "text/plain": [
       "<Figure size 640x480 with 1 Axes>"
      ]
     },
     "metadata": {},
     "output_type": "display_data"
    },
    {
     "data": {
      "image/png": "[encoded data removed]",
      "text/plain": [
       "<Figure size 640x480 with 1 Axes>"
      ]
     },
     "metadata": {},
     "output_type": "display_data"
    }
   ],
   "source": [
    "df_metrics.plot(y=['sil', 'd_b'], x='clusters')\n",
    "df_metrics.plot(y=['k_h'], x='clusters')"
   ]
  },
  {
   "cell_type": "code",
   "execution_count": 59,
   "metadata": {},
   "outputs": [
    {
     "name": "stdout",
     "output_type": "stream",
     "text": [
      "0.54\n",
      "0.58\n",
      "0.42\n"
     ]
    }
   ],
   "source": [
    "k_m = cluster.KMeans(n_clusters=6, random_state=42, init='random')\n",
    "k_m.fit(X_norm)\n",
    "print(round(metrics.homogeneity_score(df_y[0], k_m.labels_),2))\n",
    "print(round(metrics.completeness_score(df_y[0], k_m.labels_),2))\n",
    "print(round(metrics.adjusted_rand_score(df_y[0], k_m.labels_),2))"
   ]
  },
  {
   "cell_type": "code",
   "execution_count": 65,
   "metadata": {},
   "outputs": [
    {
     "data": {
      "text/html": [
       "<div>\n",
       "<style scoped>\n",
       "    .dataframe tbody tr th:only-of-type {\n",
       "        vertical-align: middle;\n",
       "    }\n",
       "\n",
       "    .dataframe tbody tr th {\n",
       "        vertical-align: top;\n",
       "    }\n",
       "\n",
       "    .dataframe thead th {\n",
       "        text-align: right;\n",
       "    }\n",
       "</style>\n",
       "<table border=\"1\" class=\"dataframe\">\n",
       "  <thead>\n",
       "    <tr style=\"text-align: right;\">\n",
       "      <th></th>\n",
       "      <th>k_m</th>\n",
       "      <th>y_fact</th>\n",
       "    </tr>\n",
       "  </thead>\n",
       "  <tbody>\n",
       "    <tr>\n",
       "      <th>0</th>\n",
       "      <td>1</td>\n",
       "      <td>5</td>\n",
       "    </tr>\n",
       "    <tr>\n",
       "      <th>1</th>\n",
       "      <td>1</td>\n",
       "      <td>5</td>\n",
       "    </tr>\n",
       "    <tr>\n",
       "      <th>2</th>\n",
       "      <td>1</td>\n",
       "      <td>5</td>\n",
       "    </tr>\n",
       "    <tr>\n",
       "      <th>3</th>\n",
       "      <td>1</td>\n",
       "      <td>5</td>\n",
       "    </tr>\n",
       "    <tr>\n",
       "      <th>4</th>\n",
       "      <td>1</td>\n",
       "      <td>5</td>\n",
       "    </tr>\n",
       "    <tr>\n",
       "      <th>...</th>\n",
       "      <td>...</td>\n",
       "      <td>...</td>\n",
       "    </tr>\n",
       "    <tr>\n",
       "      <th>10294</th>\n",
       "      <td>2</td>\n",
       "      <td>2</td>\n",
       "    </tr>\n",
       "    <tr>\n",
       "      <th>10295</th>\n",
       "      <td>2</td>\n",
       "      <td>2</td>\n",
       "    </tr>\n",
       "    <tr>\n",
       "      <th>10296</th>\n",
       "      <td>2</td>\n",
       "      <td>2</td>\n",
       "    </tr>\n",
       "    <tr>\n",
       "      <th>10297</th>\n",
       "      <td>2</td>\n",
       "      <td>2</td>\n",
       "    </tr>\n",
       "    <tr>\n",
       "      <th>10298</th>\n",
       "      <td>2</td>\n",
       "      <td>2</td>\n",
       "    </tr>\n",
       "  </tbody>\n",
       "</table>\n",
       "<p>10299 rows × 2 columns</p>\n",
       "</div>"
      ],
      "text/plain": [
       "       k_m  y_fact\n",
       "0        1       5\n",
       "1        1       5\n",
       "2        1       5\n",
       "3        1       5\n",
       "4        1       5\n",
       "...    ...     ...\n",
       "10294    2       2\n",
       "10295    2       2\n",
       "10296    2       2\n",
       "10297    2       2\n",
       "10298    2       2\n",
       "\n",
       "[10299 rows x 2 columns]"
      ]
     },
     "execution_count": 65,
     "metadata": {},
     "output_type": "execute_result"
    }
   ],
   "source": [
    "df_sravn = pd.DataFrame()\n",
    "df_sravn['k_m'] = k_m.labels_\n",
    "df_sravn['y_fact'] = np.array(df_y[0])\n",
    "df_sravn"
   ]
  },
  {
   "cell_type": "code",
   "execution_count": 73,
   "metadata": {},
   "outputs": [
    {
     "data": {
      "text/plain": [
       "y_fact  k_m\n",
       "1       2       903\n",
       "        3        78\n",
       "        4       741\n",
       "2       2      1242\n",
       "        3         5\n",
       "        4       295\n",
       "        5         2\n",
       "3       2       321\n",
       "        3       196\n",
       "        4       889\n",
       "4       0        91\n",
       "        1      1238\n",
       "        2         1\n",
       "        5       447\n",
       "5       1      1346\n",
       "        5       560\n",
       "6       0      1556\n",
       "        1        54\n",
       "        2         5\n",
       "        5       329\n",
       "Name: y_fact, dtype: int64"
      ]
     },
     "execution_count": 73,
     "metadata": {},
     "output_type": "execute_result"
    }
   ],
   "source": [
    "df_sravn.groupby(['y_fact', 'k_m'])['y_fact'].agg('count')"
   ]
  },
  {
   "cell_type": "markdown",
   "metadata": {},
   "source": [
    "1 — ходьба;\n",
    "2 — подъём;\n",
    "3 — спуск;\n",
    "4 — сидение;\n",
    "5 — стояние;\n",
    "6 — лежание."
   ]
  },
  {
   "cell_type": "code",
   "execution_count": 74,
   "metadata": {},
   "outputs": [
    {
     "data": {
      "text/plain": [
       "y_fact  k_m\n",
       "1       0      1722\n",
       "2       0      1536\n",
       "        1         8\n",
       "3       0      1406\n",
       "4       0         3\n",
       "        1      1774\n",
       "5       1      1906\n",
       "6       0        12\n",
       "        1      1932\n",
       "Name: y_fact, dtype: int64"
      ]
     },
     "execution_count": 74,
     "metadata": {},
     "output_type": "execute_result"
    }
   ],
   "source": [
    "k_m = cluster.KMeans(n_clusters=2, random_state=42, init='random')\n",
    "k_m.fit(X_norm)\n",
    "df_sravn = pd.DataFrame()\n",
    "df_sravn['k_m'] = k_m.labels_\n",
    "df_sravn['y_fact'] = np.array(df_y[0])\n",
    "df_sravn.groupby(['y_fact', 'k_m'])['y_fact'].agg('count')"
   ]
  },
  {
   "cell_type": "code",
   "execution_count": 77,
   "metadata": {},
   "outputs": [
    {
     "data": {
      "text/plain": [
       "0.98"
      ]
     },
     "execution_count": 77,
     "metadata": {},
     "output_type": "execute_result"
    }
   ],
   "source": [
    "round(metrics.completeness_score(df_y[0], k_m.labels_),2)"
   ]
  },
  {
   "cell_type": "code",
   "execution_count": 79,
   "metadata": {},
   "outputs": [
    {
     "data": {
      "text/plain": [
       "1.0"
      ]
     },
     "execution_count": 79,
     "metadata": {},
     "output_type": "execute_result"
    }
   ],
   "source": [
    "aglom = cluster.AgglomerativeClustering(n_clusters=2)\n",
    "aglom.fit(X_norm)\n",
    "round(metrics.completeness_score(df_y[0], aglom.labels_),2)"
   ]
  }
 ],
 "metadata": {
  "kernelspec": {
   "display_name": "Python 3",
   "language": "python",
   "name": "python3"
  },
  "language_info": {
   "codemirror_mode": {
    "name": "ipython",
    "version": 3
   },
   "file_extension": ".py",
   "mimetype": "text/x-python",
   "name": "python",
   "nbconvert_exporter": "python",
   "pygments_lexer": "ipython3",
   "version": "3.9.10"
  },
  "orig_nbformat": 4
 },
 "nbformat": 4,
 "nbformat_minor": 2
}
